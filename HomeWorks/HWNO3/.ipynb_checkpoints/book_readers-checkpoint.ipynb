{
 "cells": [
  {
   "attachments": {},
   "cell_type": "markdown",
   "metadata": {
    "id": "ddU9LZWUEiAd"
   },
   "source": [
    "<h1 align=center style=\"line-height:200%;font-family:vazir;color:#0099cc\">\n",
    "<font face=\"vazir\" color=\"#0099cc\">\n",
    "قشر کتاب‌خوان\n",
    "</font>\n",
    "</h1>\n",
    "\n",
    "<p dir=rtl style=\"direction: rtl;text-align: justify;line-height:200%;font-family:vazir;font-size:medium\">\n",
    "<font face=\"vazir\" size=3>\n",
    "در این تمرین برای کمک به قشر کتابخوان می‌خواهیم به تحلیل داده‌های سایت <i>goodreads</i> بپردازیم و اطلاعات جالب و کاربردی‌ای را از آن استخراج کنیم.\n",
    "</font>\n",
    "</p>"
   ]
  },
  {
   "attachments": {},
   "cell_type": "markdown",
   "metadata": {},
   "source": [
    "<h2 align=right style=\"line-height:200%;font-family:vazir;color:#0099cc\">\n",
    "<font face=\"vazir\" color=\"#0099cc\">\n",
    "مجموعه‌داده\n",
    "</font>\n",
    "</h2>\n",
    "\n",
    "<p dir=rtl style=\"direction: rtl;text-align: justify;line-height:200%;font-family:vazir;font-size:medium\">\n",
    "<font face=\"vazir\" size=3>\n",
    "اطلاعات کتاب‌ها در فایل <code>books_db.csv</code>،‌ نویسندگان در فایل <code>authors.csv</code>، ناشران در فایل <code>publisher.csv</code> و زبان‌ها در فایل <code>language.csv</code> قرار گرفته است. به‌کمک پانداز هرکدام از این فایل‌ها را خوانده و در متغیر متناظر آن ذخیره کنید.\n",
    "</font>\n",
    "</p>"
   ]
  },
  {
   "cell_type": "code",
   "execution_count": null,
   "metadata": {},
   "outputs": [],
   "source": [
    "import pandas as pd\n",
    "import numpy as np\n",
    "\n",
    "df = pd.read_csv('books_db.csv')\n",
    "authors = pd.read_csv(authors.csv)\n",
    "language = pd.read_csv('language.csv')\n",
    "publisher = pd.read_csv('publisher.csv')\n",
    "\n",
    "df.head()"
   ]
  },
  {
   "attachments": {},
   "cell_type": "markdown",
   "metadata": {},
   "source": [
    "<h2 align=right style=\"line-height:200%;font-family:vazir;color:#0099cc\">\n",
    "<font face=\"vazir\" color=\"#0099cc\">\n",
    "قسمت اول\n",
    "</font>\n",
    "</h2>\n",
    "\n",
    "<p dir=rtl style=\"direction: rtl;text-align: justify;line-height:200%;font-family:vazir;font-size:medium\">\n",
    "<font face=\"vazir\" size=3>\n",
    "همان‌طور که مشاهده می‌کنید در مجموعه‌داده‌ی اصلی (کتاب‌ها)، مقادیر سه ستون <code>lang_id</code>، <code>author_id</code> و <code>publisher_id</code> تنها به‌صورت آیدی (<code>id</code>) هستند. این آیدی‌ها با شماره‌ی نمایه‌ها در سایر دیتافریم‌ها متناظر هستند. در این قسمت قصد داریم تا طبق این نمایه‌ها،‌ اطلاعات کامل‌شان را از دیتافریم مربوطه استخراج کرده و به دیتافریم <code>df</code> اضافه کنیم. بنابراین سه دیتافریم <code>authors</code>، <code>language</code> و <code>publisher</code> را به‌شکل مناسبی با دیتافریم <code>df</code> ادغام (<code>merge</code>) کنید.\n",
    "</font>\n",
    "</p>"
   ]
  },
  {
   "cell_type": "code",
   "execution_count": null,
   "metadata": {},
   "outputs": [],
   "source": [
    "# To-Do: about 3 lines of code\n",
    "\n",
    "df.head()"
   ]
  },
  {
   "attachments": {},
   "cell_type": "markdown",
   "metadata": {},
   "source": [
    "<p dir=rtl style=\"direction: rtl;text-align: justify;line-height:200%;font-family:vazir;font-size:medium\">\n",
    "<font face=\"vazir\" size=3>\n",
    "حال که تمام مقادیر اضافه شده‌اند، نیازی به سه ستون <code>id</code> که به‌عنوان کلید استفاده کردیم نداریم. پس آن‌ها را با استفاده از دستور <code>drop</code> حذف می‌کنیم.\n",
    "        در درسنامه‌های بعدی نحوه‌ی کار با این دستور را یاد خواهید گرفت.    \n",
    "</font>\n",
    "</p>"
   ]
  },
  {
   "cell_type": "code",
   "execution_count": null,
   "metadata": {},
   "outputs": [],
   "source": [
    "df.drop(columns = ['author_id', 'lang_id', 'publisher_id'], inplace = True)"
   ]
  },
  {
   "attachments": {},
   "cell_type": "markdown",
   "metadata": {},
   "source": [
    "<h2 align=right style=\"line-height:200%;font-family:vazir;color:#0099cc\">\n",
    "<font face=\"vazir\" color=\"#0099cc\">\n",
    "قسمت دوم\n",
    "</font>\n",
    "</h2>\n",
    "\n",
    "<p dir=rtl style=\"direction: rtl;text-align: justify;line-height:200%;font-family:vazir;font-size:medium\">\n",
    "<font face=\"vazir\" size=3>\n",
    "حال نام ستون‌های دیتافریم را به‌گونه‌ای تغییر دهید که به‌ترتیب از چپ به راست برابر نام‌های زیر باشد:\n",
    "<ul>\n",
    "<li><code>bookID</code></li>\n",
    "<li><code>title</code></li>\n",
    "<li><code>average_rating</code></li>\n",
    "<li><code>isbn</code></li>\n",
    "<li><code>isbn13</code></li>\n",
    "<li><code>num_pages</code></li>\n",
    "<li><code>ratings_count</code></li>\n",
    "<li><code>text_reviews_count</code></li>\n",
    "<li><code>publication_date</code></li>\n",
    "<li><code>author</code></li>\n",
    "<li><code>lang</code></li>\n",
    "<li><code>publisher</code></li>\n",
    "</font>\n",
    "</p>"
   ]
  },
  {
   "cell_type": "code",
   "execution_count": null,
   "metadata": {},
   "outputs": [],
   "source": [
    "# To-Do"
   ]
  },
  {
   "attachments": {},
   "cell_type": "markdown",
   "metadata": {},
   "source": [
    "<h2 align=right style=\"line-height:200%;font-family:vazir;color:#0099cc\">\n",
    "<font face=\"vazir\" color=\"#0099cc\">\n",
    "قسمت سوم\n",
    "</font>\n",
    "</h2>\n",
    "\n",
    "<p dir=rtl style=\"direction: rtl;text-align: justify;line-height:200%;font-family:vazir;font-size:medium\">\n",
    "<font face=\"vazir\" size=3>\n",
    "اکنون میانگین امتیاز کتاب‌های هر انتشاراتی را محاسبه کرده و حاصل را در متغیر <code>publisher_rating</code> ذخیره کنید.\n",
    "</font>\n",
    "</p>"
   ]
  },
  {
   "cell_type": "code",
   "execution_count": null,
   "metadata": {},
   "outputs": [],
   "source": [
    "publisher_rating = # To-Do\n",
    "publisher_rating"
   ]
  },
  {
   "attachments": {},
   "cell_type": "markdown",
   "metadata": {},
   "source": [
    "<h2 align=right style=\"line-height:200%;font-family:vazir;color:#0099cc\">\n",
    "<font face=\"vazir\" color=\"#0099cc\">\n",
    "قسمت چهارم\n",
    "</font>\n",
    "</h2>\n",
    "\n",
    "<p dir=rtl style=\"direction: rtl;text-align: justify;line-height:200%;font-family:vazir;font-size:medium\">\n",
    "<font face=\"vazir\" size=3>\n",
    "در این قسمت ابتدا ستونی با نام <code>num_pages_grp</code> به دیتافریم اضافه کنید که در آن تعداد صفحات کتاب را به‌صورت بازه‌های زیر نشان دهد:\n",
    "</font>\n",
    "</p>\n",
    "\n",
    "<center>\n",
    "<div dir=rtl style=\"direction: rtl;line-height:200%;font-family:vazir;font-size:medium\">\n",
    "<font face=\"vazir\" size=3>\n",
    "\n",
    "| <b>مقدار</b> | <b>توضیح</b> |\n",
    "| :---: | :---: | \n",
    "| <code dir=ltr><250</code> | کمتر از ۲۵۰ صفحه |\n",
    "| <code dir=ltr>250-499</code> | از ۲۵۰ تا ۴۹۹ صفحه |\n",
    "| <code dir=ltr>500-749</code> | از ۵۰۰ تا ۷۴۹ صفحه |\n",
    "| <code dir=ltr>750-999</code> | از ۷۵۰ تا ۹۹۹ صفحه |\n",
    "| <code dir=ltr>>=1000</code> | بیشتر یا مساوی ۱۰۰۰ صفحه |\n",
    "\n",
    "</font>\n",
    "</div>\n",
    "</center>\n",
    "\n",
    "\n",
    "<p dir=rtl style=\"direction: rtl;text-align: justify;line-height:200%;font-family:vazir;font-size:medium\">\n",
    "<font face=\"vazir\" size=3>\n",
    "<span style=\"color:green\"><b>راهنمایی :</b></span>\n",
    " برای این کار می‌توانید از تابع <code>np.select</code> استفاده کنید. \n",
    "</font>\n",
    "</p>\n"
   ]
  },
  {
   "cell_type": "code",
   "execution_count": null,
   "metadata": {},
   "outputs": [],
   "source": [
    "df['num_pages_grp'] = # To-Do"
   ]
  },
  {
   "attachments": {},
   "cell_type": "markdown",
   "metadata": {},
   "source": [
    "\n",
    "<p dir=rtl style=\"direction: rtl;text-align: justify;line-height:200%;font-family:vazir;font-size:medium\">\n",
    "<font face=\"vazir\" size=3>\n",
    "حال می‌خواهیم بدانیم هر نویسنده چند کتاب در هرکدام از این بازه‌ها نوشته است. یعنی حاصل باید چیزی شبیه به جدول زیر باشد:\n",
    "\n",
    "</font>\n",
    "</p>"
   ]
  },
  {
   "cell_type": "raw",
   "metadata": {},
   "source": [
    "A.B. Yehoshua          250-499          1\n",
    "                       500-749          1\n",
    "A.D.P. Briggs          250-499          1\n",
    "A.E. Cunningham        <250             1\n",
    "A.J. Jacobs            250-499          1"
   ]
  },
  {
   "cell_type": "code",
   "execution_count": null,
   "metadata": {},
   "outputs": [],
   "source": [
    "author_page = # To-Do\n",
    "author_page"
   ]
  },
  {
   "attachments": {},
   "cell_type": "markdown",
   "metadata": {},
   "source": [
    "<h2 align=right style=\"line-height:200%;font-family:vazir;color:#0099cc\">\n",
    "<font face=\"vazir\" color=\"#0099cc\">\n",
    "<b>سلول جواب‌ساز</b>\n",
    "</font>\n",
    "</h2>\n",
    "\n",
    "\n",
    "<p dir=rtl style=\"direction: rtl; text-align: justify; line-height:200%; font-family:vazir; font-size:medium\">\n",
    "<font face=\"vazir\" size=3>\n",
    "    برای ساخته‌شدن فایل <code>result.zip</code> سلول زیر را اجرا کنید. توجه داشته باشید که پیش از اجرای سلول زیر تغییرات اعمال شده در نت‌بوک را ذخیره کرده باشید (<code>ctrl+s</code>) تا در صورت نیاز به پشتیبانی امکان بررسی کد شما وجود داشته باشد.\n",
    "</font>\n",
    "</p>"
   ]
  },
  {
   "cell_type": "code",
   "execution_count": null,
   "metadata": {},
   "outputs": [],
   "source": [
    "import zlib\n",
    "import zipfile\n",
    "\n",
    "df.to_csv('books_result.csv', index=False)\n",
    "publisher_rating.to_csv('publisher_rating.csv', index=True)\n",
    "author_page.to_csv(\"author_page.csv\", index=True)\n",
    "\n",
    "def compress(file_names):\n",
    "    print(\"File Paths:\")\n",
    "    print(file_names)\n",
    "    compression = zipfile.ZIP_DEFLATED\n",
    "    with zipfile.ZipFile(\"result.zip\", mode=\"w\") as zf:\n",
    "        for file_name in file_names:\n",
    "            zf.write('./' + file_name, file_name, compress_type=compression)\n",
    "\n",
    "file_names = [\"books_result.csv\", \"publisher_rating.csv\", \"author_page.csv\", \"book_readers.ipynb\"]\n",
    "compress(file_names)"
   ]
  },
  {
   "cell_type": "markdown",
   "metadata": {
    "id": "YWBTRJvqdG_u"
   },
   "source": [
    "\n",
    "<br />\n",
    "<div dir=rtl id=\"start\" style=\"direction:rtl;line-height:200%;\">\n",
    "\t<font face=\"vazir\" size\n",
    "        سلاموری ارسال کنید.\n",
    "  </p>\n",
    "</div>"
   ]
  }
 ],
 "metadata": {
  "colab": {
   "collapsed_sections": [],
   "name": "exercise1.ipynb",
   "provenance": []
  },
  "kernelspec": {
   "display_name": "Python 3",
   "language": "python",
   "name": "python3"
  },
  "language_info": {
   "codemirror_mode": {
    "name": "ipython",
    "version": 3
   },
   "file_extension": ".py",
   "mimetype": "text/x-python",
   "name": "python",
   "nbconvert_exporter": "python",
   "pygments_lexer": "ipython3",
   "version": "3.8.0"
  },
  "vscode": {
   "interpreter": {
    "hash": "44e7e1b8fa2096bd5707ed7fd18b1724a2db25f4c565a7673f8b6e7bfc49d25d"
   }
  }
 },
 "nbformat": 4,
 "nbformat_minor": 4
}
