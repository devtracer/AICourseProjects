{
 "cells": [
  {
   "cell_type": "markdown",
   "metadata": {},
   "source": [
    "<h1 align=center style=\"line-height:200%;font-family:vazir;color:#0099cc\">\n",
    "<font face=\"vazir\" color=\"#0099cc\">\n",
    "ایجاد، تغییر شکل و برش آرایه‌ها\n",
    "</font>\n",
    "</h1>\n"
   ]
  },
  {
   "cell_type": "markdown",
   "metadata": {},
   "source": [
    "<p dir=rtl style=\"direction: rtl;text-align: justify;line-height:200%;font-family:vazir;font-size:medium\">\n",
    "<font face=\"vazir\" size=3>\n",
    "در این تمرین، ابتدا تعدادی آرایه ایجاد می‌کنیم. سپس ابعاد آنها را تغییر می‌دهیم و آرایه‌های جدیدی می‌سازیم. در آخر با استفاده از ویژگی <code>slicing</code> نامپای، قسمتی از آرایه‌ها را برش می‌دهیم. برای گرفتن نمره کامل این سوال، باید همه متغیر‌ها را درست به دست آورید.\n",
    "</font>\n",
    "</p>"
   ]
  },
  {
   "cell_type": "code",
   "execution_count": 1,
   "metadata": {},
   "outputs": [],
   "source": [
    "import numpy as np\n",
    "import math"
   ]
  },
  {
   "cell_type": "markdown",
   "metadata": {},
   "source": [
    "<h2 align=right style=\"line-height:200%;font-family:vazir;color:#0099cc\">\n",
    "<font face=\"vazir\" color=\"#0099cc\">\n",
    "بخش اول: ساخت آرایه‌ها\n",
    "</font>\n",
    "</h2>\n"
   ]
  },
  {
   "cell_type": "markdown",
   "metadata": {},
   "source": [
    "<p dir=rtl style=\"direction: rtl;text-align: justify;line-height:200%;font-family:vazir;font-size:medium\">\n",
    "<font face=\"vazir\" size=3>\n",
    "    یک آرایه یک بعدی نامپای به نام <code>a</code>  بسازید که اعداد ۱ تا ۶۴ در آن ذخیره شده باشد. خود ۱ و ۶۴ هم جزو اعداد هستند.\n",
    "</font>\n",
    "</p>"
   ]
  },
  {
   "cell_type": "code",
   "execution_count": 2,
   "metadata": {},
   "outputs": [
    {
     "name": "stdout",
     "output_type": "stream",
     "text": [
      "[ 1  2  3  4  5  6  7  8  9 10 11 12 13 14 15 16 17 18 19 20 21 22 23 24\n",
      " 25 26 27 28 29 30 31 32 33 34 35 36 37 38 39 40 41 42 43 44 45 46 47 48\n",
      " 49 50 51 52 53 54 55 56 57 58 59 60 61 62 63 64]\n"
     ]
    }
   ],
   "source": [
    "a = np.arange(1, 65)\n",
    "print(a)"
   ]
  },
  {
   "cell_type": "markdown",
   "metadata": {},
   "source": [
    "<p dir=rtl style=\"direction: rtl;text-align: justify;line-height:200%;font-family:vazir;font-size:medium\">\n",
    "<font face=\"vazir\" size=3>\n",
    "    با کمک گرفتن از توابع عمومی نامپای، آرایه <code>b</code> را ایجاد کنید که سینوس مقادیر ذخیره شده در آرایه <code>a</code> می‌باشد.</font>\n",
    "</p>"
   ]
  },
  {
   "cell_type": "code",
   "execution_count": 3,
   "metadata": {},
   "outputs": [
    {
     "name": "stdout",
     "output_type": "stream",
     "text": [
      "[ 0.84147098  0.90929743  0.14112001 -0.7568025  -0.95892427 -0.2794155\n",
      "  0.6569866   0.98935825  0.41211849 -0.54402111 -0.99999021 -0.53657292\n",
      "  0.42016704  0.99060736  0.65028784 -0.28790332 -0.96139749 -0.75098725\n",
      "  0.14987721  0.91294525  0.83665564 -0.00885131 -0.8462204  -0.90557836\n",
      " -0.13235175  0.76255845  0.95637593  0.27090579 -0.66363388 -0.98803162\n",
      " -0.40403765  0.55142668  0.99991186  0.52908269 -0.42818267 -0.99177885\n",
      " -0.64353813  0.29636858  0.96379539  0.74511316 -0.15862267 -0.91652155\n",
      " -0.83177474  0.01770193  0.85090352  0.90178835  0.12357312 -0.76825466\n",
      " -0.95375265 -0.26237485  0.67022918  0.98662759  0.39592515 -0.55878905\n",
      " -0.99975517 -0.521551    0.43616476  0.99287265  0.63673801 -0.30481062\n",
      " -0.96611777 -0.7391807   0.1673557   0.92002604]\n"
     ]
    }
   ],
   "source": [
    "b = np.array([math.sin(i) for i in a])\n",
    "print(b)"
   ]
  },
  {
   "cell_type": "markdown",
   "metadata": {},
   "source": [
    "<p dir=rtl style=\"direction: rtl;text-align: justify;line-height:200%;font-family:vazir;font-size:medium\">\n",
    "<font face=\"vazir\" size=3>\n",
    "    یک آرایه یک بعدی نامپای به نام <code>c</code> بسازید که شامل ۳۰ عدد بین ۱ و ۱۰۰ (شامل خود ۱ و ۱۰۰) با فاصله‌ی برابر باشد، نوع داده را برابر عدد حقیقی ۱۶ بیتی <code>float16</code>  قرار دهید.\n",
    "</font>\n",
    "<br>\n",
    "<font face=\"vazir\" size=3 color=\"green\">\n",
    "    <b>راهنمایی:</b>\n",
    "</font>\n",
    "<font face=\"vazir\" size=3>\n",
    "    بدین منظور می‌توانید از تابع <a href=\"https://numpy.org/doc/stable/reference/generated/numpy.linspace.html\"><code>linspace</code></a> کتابخانه‌ی نامپای بهره ببرید. کافیست اعداد شروع و پایان بازه و همچنین تعداد موردنظر خود را برای این تابع مشخص کنید، تا به تولید آن تعداد عدد در بازه‌ی موردنظر شما و با فاصله‌های برابر بپردازد.\n",
    "</font>\n",
    "</p>\n"
   ]
  },
  {
   "cell_type": "code",
   "execution_count": 4,
   "metadata": {},
   "outputs": [
    {
     "name": "stdout",
     "output_type": "stream",
     "text": [
      "[  1.      4.414   7.83   11.24   14.66   18.06   21.48   24.89   28.31\n",
      "  31.72   35.12   38.56   41.97   45.38   48.78   52.22   55.62   59.03\n",
      "  62.44   65.9    69.25   72.7    76.1    79.5    82.94   86.4    89.75\n",
      "  93.2    96.56  100.   ]\n"
     ]
    }
   ],
   "source": [
    "c = np.linspace(1, 100, 30, dtype=np.float16)\n",
    "print(c)\n"
   ]
  },
  {
   "cell_type": "markdown",
   "metadata": {},
   "source": [
    "<p dir=rtl style=\"direction: rtl;text-align: justify;line-height:200%;font-family:vazir;font-size:medium\">\n",
    "<font face=\"vazir\" size=3>\n",
    "    یک آرایه‌ی یک بعدی نامپای به نام <code>d</code> بسازید که اولین عدد آن ۱۲۵ و آخرین عدد آن ۱ باشد. یعنی اعداد از ۱۲۵ تا ۱ یکی یکی کم شوند.\n",
    "</font>\n",
    "</p>\n"
   ]
  },
  {
   "cell_type": "code",
   "execution_count": 5,
   "metadata": {},
   "outputs": [
    {
     "name": "stdout",
     "output_type": "stream",
     "text": [
      "[125 124 123 122 121 120 119 118 117 116 115 114 113 112 111 110 109 108\n",
      " 107 106 105 104 103 102 101 100  99  98  97  96  95  94  93  92  91  90\n",
      "  89  88  87  86  85  84  83  82  81  80  79  78  77  76  75  74  73  72\n",
      "  71  70  69  68  67  66  65  64  63  62  61  60  59  58  57  56  55  54\n",
      "  53  52  51  50  49  48  47  46  45  44  43  42  41  40  39  38  37  36\n",
      "  35  34  33  32  31  30  29  28  27  26  25  24  23  22  21  20  19  18\n",
      "  17  16  15  14  13  12  11  10   9   8   7   6   5   4   3   2   1]\n"
     ]
    }
   ],
   "source": [
    "d = np.arange(125, 0, -1)\n",
    "print(d)"
   ]
  },
  {
   "cell_type": "markdown",
   "metadata": {},
   "source": [
    "<h2 align=right style=\"direction:rtl;line-height:200%;font-family:vazir;color:#0099cc\">\n",
    "<font face=\"vazir\" color=\"#0099cc\">\n",
    "بخش دوم: بازآرایی (reshape) </font>\n",
    "</h2>\n"
   ]
  },
  {
   "cell_type": "markdown",
   "metadata": {},
   "source": [
    "<p dir=rtl style=\"direction: rtl;text-align: justify;line-height:200%;font-family:vazir;font-size:medium\">\n",
    "<font face=\"vazir\" size=3>\n",
    "    در این بخش، آرایه‌های <code>c</code> و <code>d</code> که در بخش قبل ساختید را به آرایه‌هایی دو بعدی و سه بعدی تبدیل می‌کنید. برای این‌کار نیاز است از تابع <code>reshape</code> استفاده کنید.\n",
    "</font>\n",
    "</p>\n"
   ]
  },
  {
   "cell_type": "markdown",
   "metadata": {},
   "source": [
    "<p dir=rtl style=\"direction: rtl;text-align: justify;line-height:200%;font-family:vazir;font-size:medium\">\n",
    "<font face=\"vazir\" size=3>\n",
    "    ابتدا آرایه‌ی <code>c</code> را به آرایه‌ای دو بعدی با اندازه ۵ در محور اول و اندازه ۶ در محور دوم تبدیل کنید و در متغیر <code>e</code> ذخیره کنید.\n",
    "</font>\n",
    "<br>\n",
    "<font face=\"vazir\" size=3 color=\"#0099cc\">\n",
    "    <b>نکته:</b>\n",
    "</font>\n",
    "<font face=\"vazir\" size=3>\n",
    "توجه داشته باید که در تمام تصاویر این تمرین هر مکعب به معنای یک عنصر (یک مقدار از آرایه) است.\n",
    "</font>\n",
    "</p>\n",
    "\n",
    "\n",
    "<center>\n",
    "<div style=\"max-width: 100%\">\n",
    "<img src=\"e_preview.jpg\">\n",
    "</div>\n",
    "</center>"
   ]
  },
  {
   "cell_type": "code",
   "execution_count": 6,
   "metadata": {},
   "outputs": [
    {
     "name": "stdout",
     "output_type": "stream",
     "text": [
      "[[  1.      4.414   7.83   11.24   14.66   18.06 ]\n",
      " [ 21.48   24.89   28.31   31.72   35.12   38.56 ]\n",
      " [ 41.97   45.38   48.78   52.22   55.62   59.03 ]\n",
      " [ 62.44   65.9    69.25   72.7    76.1    79.5  ]\n",
      " [ 82.94   86.4    89.75   93.2    96.56  100.   ]]\n"
     ]
    }
   ],
   "source": [
    "e = np.array(c)\n",
    "e = e.reshape(5, 6)\n",
    "print(e)"
   ]
  },
  {
   "cell_type": "markdown",
   "metadata": {},
   "source": [
    "<p dir=rtl style=\"direction: rtl;text-align: justify;line-height:200%;font-family:vazir;font-size:medium\">\n",
    "<font face=\"vazir\" size=3>\n",
    "    اکنون آرایه‌ی <code>d</code> را به آرایه‌ای سه بعدی با اندازه‌ی ۵ در هر سه محور تبدیل کنید و در متغیر <code>f</code> ذخیره کنید.</font>\n",
    "</p>\n",
    "\n",
    "<center>\n",
    "<div style=\"max-width: 600px\">\n",
    "<img src=\"f_preview.jpg\">\n",
    "</div>\n",
    "</center>\n"
   ]
  },
  {
   "cell_type": "code",
   "execution_count": 7,
   "metadata": {},
   "outputs": [
    {
     "name": "stdout",
     "output_type": "stream",
     "text": [
      "[[[125 124 123 122 121]\n",
      "  [120 119 118 117 116]\n",
      "  [115 114 113 112 111]\n",
      "  [110 109 108 107 106]\n",
      "  [105 104 103 102 101]]\n",
      "\n",
      " [[100  99  98  97  96]\n",
      "  [ 95  94  93  92  91]\n",
      "  [ 90  89  88  87  86]\n",
      "  [ 85  84  83  82  81]\n",
      "  [ 80  79  78  77  76]]\n",
      "\n",
      " [[ 75  74  73  72  71]\n",
      "  [ 70  69  68  67  66]\n",
      "  [ 65  64  63  62  61]\n",
      "  [ 60  59  58  57  56]\n",
      "  [ 55  54  53  52  51]]\n",
      "\n",
      " [[ 50  49  48  47  46]\n",
      "  [ 45  44  43  42  41]\n",
      "  [ 40  39  38  37  36]\n",
      "  [ 35  34  33  32  31]\n",
      "  [ 30  29  28  27  26]]\n",
      "\n",
      " [[ 25  24  23  22  21]\n",
      "  [ 20  19  18  17  16]\n",
      "  [ 15  14  13  12  11]\n",
      "  [ 10   9   8   7   6]\n",
      "  [  5   4   3   2   1]]]\n"
     ]
    }
   ],
   "source": [
    "f = np.array(d)\n",
    "f = f.reshape(5, 5, 5)\n",
    "print(f)"
   ]
  },
  {
   "cell_type": "markdown",
   "metadata": {},
   "source": [
    "<h2 align=right style=\"line-height:200%;font-family:vazir;color:#0099cc\">\n",
    "<font face=\"vazir\" color=\"#0099cc\">\n",
    "(slice) بخش سوم: برش\n",
    "</font>\n",
    "</h2>\n"
   ]
  },
  {
   "cell_type": "markdown",
   "metadata": {},
   "source": [
    "<p dir=rtl style=\"direction: rtl;text-align: justify;line-height:200%;font-family:vazir;font-size:medium\">\n",
    "<font face=\"vazir\" size=3>\n",
    "    آرایه‌ی دو‌بعدی <code>e</code> را مطابق شکل زیر برش دهید و در متغیر <code>g</code> ذخیره کنید. یعنی در متغیر <code>g</code> تنها باید مواردی که در ماتریس زیر پررنگ شده‌اند را خروجی دهید، یعنی ماتریس خروجی شما باید دارای ابعاد ۳ در ۳ باشد.</p>\n",
    "\n",
    "<center>\n",
    "<div style=\"max-width: 600px\">\n",
    "<img src=\"g_preview.jpg\">\n",
    "</div>\n",
    "</center>"
   ]
  },
  {
   "cell_type": "code",
   "execution_count": 8,
   "metadata": {},
   "outputs": [
    {
     "name": "stdout",
     "output_type": "stream",
     "text": [
      "[[  4.414  11.24   18.06 ]\n",
      " [ 45.38   52.22   59.03 ]\n",
      " [ 86.4    93.2   100.   ]]\n"
     ]
    }
   ],
   "source": [
    "g = e[0:5:2, 1:6:2]\n",
    "\n",
    "print(g)"
   ]
  },
  {
   "cell_type": "markdown",
   "metadata": {},
   "source": [
    "<p dir=rtl style=\"direction: rtl;text-align: justify;line-height:200%;font-family:vazir;font-size:medium\">\n",
    "<font face=\"vazir\" size=3>\n",
    "    آرایه‌ی سه‌بعدی <code>f</code> را مطابق شکل زیر برش دهید و در متغیر <code>h</code> بریزید. آرایه‌ی خروجی، سه‌بعدی و دارای ۸ عدد خواهد بود (هرکدام از مکعب‌ها یک عنصر از آرایه هستند و مجموعاً ۸ مکعب پررنگ نشان داده شده است).\n",
    "</p>\n",
    "\n",
    "<center>\n",
    "<div style=\"max-width: 600px\">\n",
    "<img src=\"h_preview.jpg\">\n",
    "</div>\n",
    "</center>"
   ]
  },
  {
   "cell_type": "code",
   "execution_count": 9,
   "metadata": {},
   "outputs": [
    {
     "name": "stdout",
     "output_type": "stream",
     "text": [
      "[[[35 34]\n",
      "  [30 29]]\n",
      "\n",
      " [[10  9]\n",
      "  [ 5  4]]]\n"
     ]
    }
   ],
   "source": [
    "h = f[-2:, -2:, :2]\n",
    "print(h)"
   ]
  },
  {
   "cell_type": "markdown",
   "metadata": {},
   "source": [
    "<h2 align=right style=\"line-height:200%;font-family:vazir;color:#0099cc\">\n",
    "<font face=\"vazir\" color=\"#0099cc\">\n",
    "<b>سلول جواب‌ساز</b>\n",
    "</font>\n",
    "</h2>\n",
    "\n",
    "\n",
    "<p dir=rtl style=\"direction: rtl; text-align: justify; line-height:200%; font-family:vazir; font-size:medium\">\n",
    "<font face=\"vazir\" size=3>\n",
    "    برای ساخته‌شدن فایل <code>result.zip</code> سلول زیر را اجرا کنید. توجه داشته باشید که پیش از اجرای سلول زیر تغییرات اعمال شده در نت‌بوک را ذخیره کرده باشید (<code>ctrl+s</code>) تا در صورت نیاز به پشتیبانی امکان بررسی کد شما وجود داشته باشد.\n",
    "</font>\n",
    "</p>"
   ]
  },
  {
   "cell_type": "code",
   "execution_count": 10,
   "metadata": {},
   "outputs": [
    {
     "ename": "OSError",
     "evalue": "[Errno 9] Bad file descriptor",
     "output_type": "error",
     "traceback": [
      "\u001b[1;31m---------------------------------------------------------------------------\u001b[0m",
      "\u001b[1;31mOSError\u001b[0m                                   Traceback (most recent call last)",
      "Cell \u001b[1;32mIn[10], line 4\u001b[0m\n\u001b[0;32m      1\u001b[0m \u001b[38;5;28;01mimport\u001b[39;00m \u001b[38;5;21;01mzlib\u001b[39;00m\n\u001b[0;32m      2\u001b[0m \u001b[38;5;28;01mimport\u001b[39;00m \u001b[38;5;21;01mzipfile\u001b[39;00m\n\u001b[1;32m----> 4\u001b[0m \u001b[43mnp\u001b[49m\u001b[38;5;241;43m.\u001b[39;49m\u001b[43msavez\u001b[49m\u001b[43m(\u001b[49m\u001b[38;5;124;43m\"\u001b[39;49m\u001b[38;5;124;43manswers.npz\u001b[39;49m\u001b[38;5;124;43m\"\u001b[39;49m\u001b[43m,\u001b[49m\u001b[43m \u001b[49m\u001b[43ma\u001b[49m\u001b[43m \u001b[49m\u001b[38;5;241;43m=\u001b[39;49m\u001b[43m \u001b[49m\u001b[43ma\u001b[49m\u001b[43m,\u001b[49m\u001b[43m \u001b[49m\u001b[43mb\u001b[49m\u001b[43m \u001b[49m\u001b[38;5;241;43m=\u001b[39;49m\u001b[43m \u001b[49m\u001b[43mb\u001b[49m\u001b[43m,\u001b[49m\u001b[43m \u001b[49m\u001b[43mc\u001b[49m\u001b[43m \u001b[49m\u001b[38;5;241;43m=\u001b[39;49m\u001b[43m \u001b[49m\u001b[43mc\u001b[49m\u001b[43m,\u001b[49m\u001b[43m \u001b[49m\u001b[43md\u001b[49m\u001b[43m \u001b[49m\u001b[38;5;241;43m=\u001b[39;49m\u001b[43m \u001b[49m\u001b[43md\u001b[49m\u001b[43m,\u001b[49m\u001b[43m \u001b[49m\u001b[43me\u001b[49m\u001b[43m \u001b[49m\u001b[38;5;241;43m=\u001b[39;49m\u001b[43m \u001b[49m\u001b[43me\u001b[49m\u001b[43m,\u001b[49m\u001b[43m \u001b[49m\u001b[43mf\u001b[49m\u001b[43m \u001b[49m\u001b[38;5;241;43m=\u001b[39;49m\u001b[43m \u001b[49m\u001b[43mf\u001b[49m\u001b[43m,\u001b[49m\u001b[43m \u001b[49m\u001b[43mg\u001b[49m\u001b[43m \u001b[49m\u001b[38;5;241;43m=\u001b[39;49m\u001b[43m \u001b[49m\u001b[43mg\u001b[49m\u001b[43m,\u001b[49m\u001b[43m \u001b[49m\u001b[43mh\u001b[49m\u001b[43m \u001b[49m\u001b[38;5;241;43m=\u001b[39;49m\u001b[43m \u001b[49m\u001b[43mh\u001b[49m\u001b[43m)\u001b[49m\n\u001b[0;32m      6\u001b[0m \u001b[38;5;28;01mdef\u001b[39;00m \u001b[38;5;21mcompress\u001b[39m(file_names):\n\u001b[0;32m      7\u001b[0m     \u001b[38;5;28mprint\u001b[39m(\u001b[38;5;124m\"\u001b[39m\u001b[38;5;124mFile Paths:\u001b[39m\u001b[38;5;124m\"\u001b[39m)\n",
      "File \u001b[1;32mc:\\Users\\10\\AppData\\Local\\Programs\\Python\\Python312\\Lib\\site-packages\\numpy\\lib\\_npyio_impl.py:667\u001b[0m, in \u001b[0;36msavez\u001b[1;34m(file, *args, **kwds)\u001b[0m\n\u001b[0;32m    583\u001b[0m \u001b[38;5;129m@array_function_dispatch\u001b[39m(_savez_dispatcher)\n\u001b[0;32m    584\u001b[0m \u001b[38;5;28;01mdef\u001b[39;00m \u001b[38;5;21msavez\u001b[39m(file, \u001b[38;5;241m*\u001b[39margs, \u001b[38;5;241m*\u001b[39m\u001b[38;5;241m*\u001b[39mkwds):\n\u001b[0;32m    585\u001b[0m \u001b[38;5;250m    \u001b[39m\u001b[38;5;124;03m\"\"\"Save several arrays into a single file in uncompressed ``.npz`` format.\u001b[39;00m\n\u001b[0;32m    586\u001b[0m \n\u001b[0;32m    587\u001b[0m \u001b[38;5;124;03m    Provide arrays as keyword arguments to store them under the\u001b[39;00m\n\u001b[1;32m   (...)\u001b[0m\n\u001b[0;32m    665\u001b[0m \n\u001b[0;32m    666\u001b[0m \u001b[38;5;124;03m    \"\"\"\u001b[39;00m\n\u001b[1;32m--> 667\u001b[0m     \u001b[43m_savez\u001b[49m\u001b[43m(\u001b[49m\u001b[43mfile\u001b[49m\u001b[43m,\u001b[49m\u001b[43m \u001b[49m\u001b[43margs\u001b[49m\u001b[43m,\u001b[49m\u001b[43m \u001b[49m\u001b[43mkwds\u001b[49m\u001b[43m,\u001b[49m\u001b[43m \u001b[49m\u001b[38;5;28;43;01mFalse\u001b[39;49;00m\u001b[43m)\u001b[49m\n",
      "File \u001b[1;32mc:\\Users\\10\\AppData\\Local\\Programs\\Python\\Python312\\Lib\\site-packages\\numpy\\lib\\_npyio_impl.py:770\u001b[0m, in \u001b[0;36m_savez\u001b[1;34m(file, args, kwds, compress, allow_pickle, pickle_kwargs)\u001b[0m\n\u001b[0;32m    768\u001b[0m     val \u001b[38;5;241m=\u001b[39m np\u001b[38;5;241m.\u001b[39masanyarray(val)\n\u001b[0;32m    769\u001b[0m     \u001b[38;5;66;03m# always force zip64, gh-10776\u001b[39;00m\n\u001b[1;32m--> 770\u001b[0m \u001b[43m    \u001b[49m\u001b[38;5;28;43;01mwith\u001b[39;49;00m\u001b[43m \u001b[49m\u001b[43mzipf\u001b[49m\u001b[38;5;241;43m.\u001b[39;49m\u001b[43mopen\u001b[49m\u001b[43m(\u001b[49m\u001b[43mfname\u001b[49m\u001b[43m,\u001b[49m\u001b[43m \u001b[49m\u001b[38;5;124;43m'\u001b[39;49m\u001b[38;5;124;43mw\u001b[39;49m\u001b[38;5;124;43m'\u001b[39;49m\u001b[43m,\u001b[49m\u001b[43m \u001b[49m\u001b[43mforce_zip64\u001b[49m\u001b[38;5;241;43m=\u001b[39;49m\u001b[38;5;28;43;01mTrue\u001b[39;49;00m\u001b[43m)\u001b[49m\u001b[43m \u001b[49m\u001b[38;5;28;43;01mas\u001b[39;49;00m\u001b[43m \u001b[49m\u001b[43mfid\u001b[49m\u001b[43m:\u001b[49m\n\u001b[0;32m    771\u001b[0m \u001b[43m        \u001b[49m\u001b[38;5;28;43mformat\u001b[39;49m\u001b[38;5;241;43m.\u001b[39;49m\u001b[43mwrite_array\u001b[49m\u001b[43m(\u001b[49m\u001b[43mfid\u001b[49m\u001b[43m,\u001b[49m\u001b[43m \u001b[49m\u001b[43mval\u001b[49m\u001b[43m,\u001b[49m\n\u001b[0;32m    772\u001b[0m \u001b[43m                           \u001b[49m\u001b[43mallow_pickle\u001b[49m\u001b[38;5;241;43m=\u001b[39;49m\u001b[43mallow_pickle\u001b[49m\u001b[43m,\u001b[49m\n\u001b[0;32m    773\u001b[0m \u001b[43m                           \u001b[49m\u001b[43mpickle_kwargs\u001b[49m\u001b[38;5;241;43m=\u001b[39;49m\u001b[43mpickle_kwargs\u001b[49m\u001b[43m)\u001b[49m\n\u001b[0;32m    775\u001b[0m zipf\u001b[38;5;241m.\u001b[39mclose()\n",
      "File \u001b[1;32mc:\\Users\\10\\AppData\\Local\\Programs\\Python\\Python312\\Lib\\zipfile\\__init__.py:1254\u001b[0m, in \u001b[0;36m_ZipWriteFile.close\u001b[1;34m(self)\u001b[0m\n\u001b[0;32m   1248\u001b[0m \u001b[38;5;28;01melse\u001b[39;00m:\n\u001b[0;32m   1249\u001b[0m     \u001b[38;5;66;03m# Seek backwards and write file header (which will now include\u001b[39;00m\n\u001b[0;32m   1250\u001b[0m     \u001b[38;5;66;03m# correct CRC and file sizes)\u001b[39;00m\n\u001b[0;32m   1251\u001b[0m \n\u001b[0;32m   1252\u001b[0m     \u001b[38;5;66;03m# Preserve current position in file\u001b[39;00m\n\u001b[0;32m   1253\u001b[0m     \u001b[38;5;28mself\u001b[39m\u001b[38;5;241m.\u001b[39m_zipfile\u001b[38;5;241m.\u001b[39mstart_dir \u001b[38;5;241m=\u001b[39m \u001b[38;5;28mself\u001b[39m\u001b[38;5;241m.\u001b[39m_fileobj\u001b[38;5;241m.\u001b[39mtell()\n\u001b[1;32m-> 1254\u001b[0m     \u001b[38;5;28;43mself\u001b[39;49m\u001b[38;5;241;43m.\u001b[39;49m\u001b[43m_fileobj\u001b[49m\u001b[38;5;241;43m.\u001b[39;49m\u001b[43mseek\u001b[49m\u001b[43m(\u001b[49m\u001b[38;5;28;43mself\u001b[39;49m\u001b[38;5;241;43m.\u001b[39;49m\u001b[43m_zinfo\u001b[49m\u001b[38;5;241;43m.\u001b[39;49m\u001b[43mheader_offset\u001b[49m\u001b[43m)\u001b[49m\n\u001b[0;32m   1255\u001b[0m     \u001b[38;5;28mself\u001b[39m\u001b[38;5;241m.\u001b[39m_fileobj\u001b[38;5;241m.\u001b[39mwrite(\u001b[38;5;28mself\u001b[39m\u001b[38;5;241m.\u001b[39m_zinfo\u001b[38;5;241m.\u001b[39mFileHeader(\u001b[38;5;28mself\u001b[39m\u001b[38;5;241m.\u001b[39m_zip64))\n\u001b[0;32m   1256\u001b[0m     \u001b[38;5;28mself\u001b[39m\u001b[38;5;241m.\u001b[39m_fileobj\u001b[38;5;241m.\u001b[39mseek(\u001b[38;5;28mself\u001b[39m\u001b[38;5;241m.\u001b[39m_zipfile\u001b[38;5;241m.\u001b[39mstart_dir)\n",
      "\u001b[1;31mOSError\u001b[0m: [Errno 9] Bad file descriptor"
     ]
    }
   ],
   "source": [
    "import zlib\n",
    "import zipfile\n",
    "\n",
    "np.savez(\"answers.npz\", a = a, b = b, c = c, d = d, e = e, f = f, g = g, h = h)\n",
    "\n",
    "def compress(file_names):\n",
    "    print(\"File Paths:\")\n",
    "    print(file_names)\n",
    "    compression = zipfile.ZIP_DEFLATED\n",
    "    with zipfile.ZipFile(\"result.zip\", mode=\"w\") as zf:\n",
    "        for file_name in file_names:\n",
    "            zf.write('./' + file_name, file_name, compress_type=compression)\n",
    "\n",
    "file_names = [\"answers.npz\", \"create_reshape_and_slice.ipynb\"]\n",
    "compress(file_names)"
   ]
  }
 ],
 "metadata": {
  "kernelspec": {
   "display_name": "Python 3",
   "language": "python",
   "name": "python3"
  },
  "language_info": {
   "codemirror_mode": {
    "name": "ipython",
    "version": 3
   },
   "file_extension": ".py",
   "mimetype": "text/x-python",
   "name": "python",
   "nbconvert_exporter": "python",
   "pygments_lexer": "ipython3",
   "version": "3.12.4"
  }
 },
 "nbformat": 4,
 "nbformat_minor": 2
}
