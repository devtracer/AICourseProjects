{
 "cells": [
  {
   "cell_type": "code",
   "execution_count": 10,
   "metadata": {},
   "outputs": [],
   "source": [
    "import pandas as pd\n",
    "dataset = pd.read_csv('penguins_size5.csv').dropna()\n"
   ]
  },
  {
   "cell_type": "code",
   "execution_count": 8,
   "metadata": {},
   "outputs": [
    {
     "name": "stdout",
     "output_type": "stream",
     "text": [
      "       species     island  culmen_length_mm  culmen_depth_mm  \\\n",
      "0    Chinstrap     Biscoe         39.641020        16.559920   \n",
      "1       Adelie     Biscoe         52.924312        21.198324   \n",
      "2    Chinstrap  Torgersen         56.974197        21.204410   \n",
      "3       Gentoo  Torgersen         36.457206        14.211573   \n",
      "4    Chinstrap     Biscoe         53.949836        15.695049   \n",
      "..         ...        ...               ...              ...   \n",
      "344  Chinstrap      Dream         41.898326        16.659695   \n",
      "345     Gentoo  Torgersen         46.888493        13.594821   \n",
      "346  Chinstrap      Dream         50.876891        20.188351   \n",
      "347  Chinstrap  Torgersen         58.894094        20.051153   \n",
      "348     Adelie  Torgersen         35.084555        19.225181   \n",
      "\n",
      "     flipper_length_mm  body_mass_g     sex  \n",
      "0           224.770654  6100.789185    MALE  \n",
      "1           200.424523  2910.212059    MALE  \n",
      "2           181.479774  3060.291164    MALE  \n",
      "3           198.097524  4582.231660    MALE  \n",
      "4           224.175924  5915.503933  FEMALE  \n",
      "..                 ...          ...     ...  \n",
      "344         203.918004  4421.307861    MALE  \n",
      "345         174.195316  2756.567714  FEMALE  \n",
      "346         214.340542  4398.280301  FEMALE  \n",
      "347         183.680292  3378.813599    MALE  \n",
      "348         189.667516  3012.745583    MALE  \n",
      "\n",
      "[294 rows x 7 columns]\n"
     ]
    }
   ],
   "source": [
    "print(dataset)"
   ]
  },
  {
   "cell_type": "code",
   "execution_count": 5,
   "metadata": {},
   "outputs": [
    {
     "name": "stdout",
     "output_type": "stream",
     "text": [
      "island\n",
      "Biscoe       [species, island, culmen_length_mm, culmen_dep...\n",
      "Dream        [species, island, culmen_length_mm, culmen_dep...\n",
      "Torgersen    [species, island, culmen_length_mm, culmen_dep...\n",
      "dtype: object\n"
     ]
    },
    {
     "name": "stderr",
     "output_type": "stream",
     "text": [
      "/tmp/ipykernel_15014/1500127876.py:1: DeprecationWarning: DataFrameGroupBy.apply operated on the grouping columns. This behavior is deprecated, and in a future version of pandas the grouping columns will be excluded from the operation. Either pass `include_groups=False` to exclude the groupings or explicitly select the grouping columns after groupby to silence this warning.\n",
      "  print(dataset.groupby(\"island\").apply(list))\n"
     ]
    }
   ],
   "source": [
    "print(dataset.groupby(\"island\").apply(list))"
   ]
  },
  {
   "cell_type": "code",
   "execution_count": 7,
   "metadata": {},
   "outputs": [
    {
     "name": "stdout",
     "output_type": "stream",
     "text": [
      "island     species  culmen_length_mm  culmen_depth_mm  flipper_length_mm  body_mass_g  sex   \n",
      "Biscoe     Adelie   32.205692         16.217073        199.797126         4949.233945  FEMALE    1\n",
      "                    32.595078         18.911060        194.531325         5658.686599  MALE      1\n",
      "                    32.644954         18.485514        192.868226         6299.449874  MALE      1\n",
      "                    32.892824         16.914607        198.770377         3906.637071  MALE      1\n",
      "                    33.884700         13.887740        178.230987         3137.607781  FEMALE    1\n",
      "                                                                                                ..\n",
      "Torgersen  Gentoo   57.814702         16.665522        213.360060         3711.412035  MALE      1\n",
      "                    57.972361         15.170144        185.765540         4399.254049  MALE      1\n",
      "                    58.245936         19.730585        230.363613         6115.235889  MALE      1\n",
      "                    58.300316         16.830265        226.709461         3399.271514  MALE      1\n",
      "                    58.663320         15.609040        208.054757         3654.670162  MALE      1\n",
      "Name: count, Length: 294, dtype: int64\n"
     ]
    }
   ],
   "source": [
    "print(dataset.groupby(\"island\").value_counts())"
   ]
  },
  {
   "cell_type": "code",
   "execution_count": 9,
   "metadata": {},
   "outputs": [
    {
     "name": "stdout",
     "output_type": "stream",
     "text": [
      "island     species  \n",
      "Biscoe     Chinstrap    37\n",
      "           Gentoo       34\n",
      "           Adelie       31\n",
      "Dream      Gentoo       36\n",
      "           Chinstrap    34\n",
      "           Adelie       33\n",
      "Torgersen  Gentoo       42\n",
      "           Adelie       24\n",
      "           Chinstrap    23\n",
      "Name: count, dtype: int64\n"
     ]
    }
   ],
   "source": [
    "print(dataset.groupby(\"island\")[\"species\"].value_counts())"
   ]
  }
 ],
 "metadata": {
  "kernelspec": {
   "display_name": "Python 3",
   "language": "python",
   "name": "python3"
  },
  "language_info": {
   "codemirror_mode": {
    "name": "ipython",
    "version": 3
   },
   "file_extension": ".py",
   "mimetype": "text/x-python",
   "name": "python",
   "nbconvert_exporter": "python",
   "pygments_lexer": "ipython3",
   "version": "3.10.12"
  }
 },
 "nbformat": 4,
 "nbformat_minor": 2
}
