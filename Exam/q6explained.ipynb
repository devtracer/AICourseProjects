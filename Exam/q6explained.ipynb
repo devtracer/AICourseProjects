{
 "cells": [
  {
   "cell_type": "code",
   "execution_count": null,
   "metadata": {},
   "outputs": [],
   "source": [
    "import pandas as pd\n",
    "dataset = pd.read_csv('penguins_size5.csv').dropna()\n"
   ]
  },
  {
   "cell_type": "code",
   "execution_count": 3,
   "metadata": {},
   "outputs": [
    {
     "name": "stdout",
     "output_type": "stream",
     "text": [
      "island\n",
      "Biscoe       [species, island, culmen_length_mm, culmen_dep...\n",
      "Dream        [species, island, culmen_length_mm, culmen_dep...\n",
      "Torgersen    [species, island, culmen_length_mm, culmen_dep...\n",
      "dtype: object\n"
     ]
    },
    {
     "name": "stderr",
     "output_type": "stream",
     "text": [
      "/tmp/ipykernel_14024/1500127876.py:1: DeprecationWarning: DataFrameGroupBy.apply operated on the grouping columns. This behavior is deprecated, and in a future version of pandas the grouping columns will be excluded from the operation. Either pass `include_groups=False` to exclude the groupings or explicitly select the grouping columns after groupby to silence this warning.\n",
      "  print(dataset.groupby(\"island\").apply(list))\n"
     ]
    }
   ],
   "source": [
    "print(dataset.groupby(\"island\").apply(list))"
   ]
  },
  {
   "cell_type": "code",
   "execution_count": 4,
   "metadata": {},
   "outputs": [
    {
     "name": "stdout",
     "output_type": "stream",
     "text": [
      "island\n",
      "Biscoe       [16.559920092667056, 21.19832391416987, 15.695...\n",
      "Dream        [18.52720750061792, 15.923554382720477, 16.583...\n",
      "Torgersen    [21.20440959828345, 14.211573109547974, 21.112...\n",
      "Name: culmen_depth_mm, dtype: object\n"
     ]
    }
   ],
   "source": [
    "print(dataset.groupby(\"island\")[\"culmen_depth_mm\"].apply(list))"
   ]
  }
 ],
 "metadata": {
  "kernelspec": {
   "display_name": "Python 3",
   "language": "python",
   "name": "python3"
  },
  "language_info": {
   "codemirror_mode": {
    "name": "ipython",
    "version": 3
   },
   "file_extension": ".py",
   "mimetype": "text/x-python",
   "name": "python",
   "nbconvert_exporter": "python",
   "pygments_lexer": "ipython3",
   "version": "3.10.12"
  }
 },
 "nbformat": 4,
 "nbformat_minor": 2
}
