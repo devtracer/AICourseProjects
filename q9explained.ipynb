{
 "cells": [
  {
   "cell_type": "code",
   "execution_count": 1,
   "metadata": {},
   "outputs": [],
   "source": [
    "import pandas as pd\n",
    "dataset = pd.read_csv('penguins_size5.csv').dropna()\n"
   ]
  },
  {
   "cell_type": "code",
   "execution_count": 2,
   "metadata": {},
   "outputs": [
    {
     "name": "stdout",
     "output_type": "stream",
     "text": [
      "       species     island  culmen_length_mm  culmen_depth_mm  \\\n",
      "0    Chinstrap     Biscoe         39.641020        16.559920   \n",
      "1       Adelie     Biscoe         52.924312        21.198324   \n",
      "2    Chinstrap  Torgersen         56.974197        21.204410   \n",
      "3       Gentoo  Torgersen         36.457206        14.211573   \n",
      "4    Chinstrap     Biscoe         53.949836        15.695049   \n",
      "..         ...        ...               ...              ...   \n",
      "344  Chinstrap      Dream         41.898326        16.659695   \n",
      "345     Gentoo  Torgersen         46.888493        13.594821   \n",
      "346  Chinstrap      Dream         50.876891        20.188351   \n",
      "347  Chinstrap  Torgersen         58.894094        20.051153   \n",
      "348     Adelie  Torgersen         35.084555        19.225181   \n",
      "\n",
      "     flipper_length_mm  body_mass_g     sex  \n",
      "0           224.770654  6100.789185    MALE  \n",
      "1           200.424523  2910.212059    MALE  \n",
      "2           181.479774  3060.291164    MALE  \n",
      "3           198.097524  4582.231660    MALE  \n",
      "4           224.175924  5915.503933  FEMALE  \n",
      "..                 ...          ...     ...  \n",
      "344         203.918004  4421.307861    MALE  \n",
      "345         174.195316  2756.567714  FEMALE  \n",
      "346         214.340542  4398.280301  FEMALE  \n",
      "347         183.680292  3378.813599    MALE  \n",
      "348         189.667516  3012.745583    MALE  \n",
      "\n",
      "[294 rows x 7 columns]\n"
     ]
    }
   ],
   "source": [
    "print(dataset)"
   ]
  },
  {
   "cell_type": "code",
   "execution_count": 10,
   "metadata": {},
   "outputs": [
    {
     "name": "stdout",
     "output_type": "stream",
     "text": [
      "       species     island  culmen_length_mm  culmen_depth_mm  \\\n",
      "0    Chinstrap     Biscoe         39.641020        16.559920   \n",
      "1       Adelie     Biscoe         52.924312        21.198324   \n",
      "2    Chinstrap  Torgersen         56.974197        21.204410   \n",
      "3       Gentoo  Torgersen         36.457206        14.211573   \n",
      "5    Chinstrap      Dream         39.351658        18.527208   \n",
      "..         ...        ...               ...              ...   \n",
      "341  Chinstrap      Dream         41.765996        15.257096   \n",
      "342     Gentoo      Dream         44.483557        20.390616   \n",
      "344  Chinstrap      Dream         41.898326        16.659695   \n",
      "347  Chinstrap  Torgersen         58.894094        20.051153   \n",
      "348     Adelie  Torgersen         35.084555        19.225181   \n",
      "\n",
      "     flipper_length_mm  body_mass_g   sex  \n",
      "0           224.770654  6100.789185  MALE  \n",
      "1           200.424523  2910.212059  MALE  \n",
      "2           181.479774  3060.291164  MALE  \n",
      "3           198.097524  4582.231660  MALE  \n",
      "5           209.923307  5924.134205  MALE  \n",
      "..                 ...          ...   ...  \n",
      "341         202.810585  3733.345545  MALE  \n",
      "342         226.263614  3687.650851  MALE  \n",
      "344         203.918004  4421.307861  MALE  \n",
      "347         183.680292  3378.813599  MALE  \n",
      "348         189.667516  3012.745583  MALE  \n",
      "\n",
      "[169 rows x 7 columns]\n"
     ]
    }
   ],
   "source": [
    "print(dataset[dataset[\"sex\"] == 'MALE'])\n"
   ]
  },
  {
   "cell_type": "code",
   "execution_count": 11,
   "metadata": {},
   "outputs": [
    {
     "name": "stdout",
     "output_type": "stream",
     "text": [
      "       species     island  culmen_length_mm  culmen_depth_mm  \\\n",
      "4    Chinstrap     Biscoe         53.949836        15.695049   \n",
      "10      Gentoo     Biscoe         32.828741        19.928985   \n",
      "13   Chinstrap  Torgersen         36.941069        20.766823   \n",
      "14      Gentoo     Biscoe         38.359899        15.004161   \n",
      "15      Gentoo  Torgersen         49.438025        21.183191   \n",
      "..         ...        ...               ...              ...   \n",
      "336     Adelie      Dream         58.570337        21.084268   \n",
      "338     Gentoo      Dream         53.415246        14.748833   \n",
      "340     Gentoo      Dream         59.071220        16.011062   \n",
      "345     Gentoo  Torgersen         46.888493        13.594821   \n",
      "346  Chinstrap      Dream         50.876891        20.188351   \n",
      "\n",
      "     flipper_length_mm  body_mass_g     sex  \n",
      "4           224.175924  5915.503933  FEMALE  \n",
      "10          195.696501  3647.364787  FEMALE  \n",
      "13          220.041576  5917.708770  FEMALE  \n",
      "14          175.664245  4829.334122  FEMALE  \n",
      "15          198.664061  3399.436779  FEMALE  \n",
      "..                 ...          ...     ...  \n",
      "336         181.546410  3079.170340  FEMALE  \n",
      "338         217.390567  5383.281653  FEMALE  \n",
      "340         217.398231  6284.950309  FEMALE  \n",
      "345         174.195316  2756.567714  FEMALE  \n",
      "346         214.340542  4398.280301  FEMALE  \n",
      "\n",
      "[125 rows x 7 columns]\n"
     ]
    }
   ],
   "source": [
    "print(dataset[dataset[\"sex\"] == 'FEMALE'])\n"
   ]
  },
  {
   "cell_type": "code",
   "execution_count": 12,
   "metadata": {},
   "outputs": [
    {
     "name": "stdout",
     "output_type": "stream",
     "text": [
      "species\n",
      "Adelie       [species, island, culmen_length_mm, culmen_dep...\n",
      "Chinstrap    [species, island, culmen_length_mm, culmen_dep...\n",
      "Gentoo       [species, island, culmen_length_mm, culmen_dep...\n",
      "dtype: object\n"
     ]
    },
    {
     "name": "stderr",
     "output_type": "stream",
     "text": [
      "/tmp/ipykernel_15830/2573760326.py:1: DeprecationWarning: DataFrameGroupBy.apply operated on the grouping columns. This behavior is deprecated, and in a future version of pandas the grouping columns will be excluded from the operation. Either pass `include_groups=False` to exclude the groupings or explicitly select the grouping columns after groupby to silence this warning.\n",
      "  print(dataset[dataset[\"sex\"] == 'FEMALE'].groupby(\"species\").apply(list))\n"
     ]
    }
   ],
   "source": [
    "print(dataset[dataset[\"sex\"] == 'FEMALE'].groupby(\"species\").apply(list))"
   ]
  },
  {
   "cell_type": "code",
   "execution_count": 13,
   "metadata": {},
   "outputs": [
    {
     "name": "stdout",
     "output_type": "stream",
     "text": [
      "species\n",
      "Adelie       36\n",
      "Chinstrap    40\n",
      "Gentoo       49\n",
      "dtype: int64\n"
     ]
    }
   ],
   "source": [
    "print(dataset[dataset[\"sex\"] == 'FEMALE'].groupby(\"species\").size())"
   ]
  },
  {
   "cell_type": "code",
   "execution_count": 14,
   "metadata": {},
   "outputs": [
    {
     "name": "stdout",
     "output_type": "stream",
     "text": [
      "species\n",
      "Adelie        88\n",
      "Chinstrap     94\n",
      "Gentoo       112\n",
      "dtype: int64\n"
     ]
    }
   ],
   "source": [
    "print(dataset.groupby(\"species\").size())"
   ]
  }
 ],
 "metadata": {
  "kernelspec": {
   "display_name": "Python 3",
   "language": "python",
   "name": "python3"
  },
  "language_info": {
   "codemirror_mode": {
    "name": "ipython",
    "version": 3
   },
   "file_extension": ".py",
   "mimetype": "text/x-python",
   "name": "python",
   "nbconvert_exporter": "python",
   "pygments_lexer": "ipython3",
   "version": "3.10.12"
  }
 },
 "nbformat": 4,
 "nbformat_minor": 2
}
