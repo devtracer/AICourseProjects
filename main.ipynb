{
 "cells": [
  {
   "cell_type": "markdown",
   "metadata": {},
   "source": [
    "First step is to import the required libraries, pandas and matplotlib."
   ]
  },
  {
   "cell_type": "code",
   "execution_count": 1,
   "metadata": {},
   "outputs": [],
   "source": [
    "import pandas as pd    \n",
    "    \n",
    "def pandasAnswer(entry):\n",
    "    print(\"\\n----------------------------ANSWER----------------------------\\n\")\n",
    "    print(entry)\n",
    "    print(\"\\n-------------------------END OF ANSWER-------------------------\\n\")"
   ]
  },
  {
   "cell_type": "markdown",
   "metadata": {},
   "source": [
    "Q.1. خواندن دیتاست (dataset read)\n",
    "\n",
    "My dataset is the fifth one so we're going to import them.\n",
    "\n",
    "we'll use ```read_csv```"
   ]
  },
  {
   "cell_type": "code",
   "execution_count": 2,
   "metadata": {},
   "outputs": [
    {
     "name": "stdout",
     "output_type": "stream",
     "text": [
      "\n",
      "----------------------------ANSWER----------------------------\n",
      "\n",
      "       species     island  culmen_length_mm  culmen_depth_mm  \\\n",
      "0    Chinstrap     Biscoe         39.641020        16.559920   \n",
      "1       Adelie     Biscoe         52.924312        21.198324   \n",
      "2    Chinstrap  Torgersen         56.974197        21.204410   \n",
      "3       Gentoo  Torgersen         36.457206        14.211573   \n",
      "4    Chinstrap     Biscoe         53.949836        15.695049   \n",
      "..         ...        ...               ...              ...   \n",
      "344  Chinstrap      Dream         41.898326        16.659695   \n",
      "345     Gentoo  Torgersen         46.888493        13.594821   \n",
      "346  Chinstrap      Dream         50.876891        20.188351   \n",
      "347  Chinstrap  Torgersen         58.894094        20.051153   \n",
      "348     Adelie  Torgersen         35.084555        19.225181   \n",
      "\n",
      "     flipper_length_mm  body_mass_g     sex  \n",
      "0           224.770654  6100.789185    MALE  \n",
      "1           200.424523  2910.212059    MALE  \n",
      "2           181.479774  3060.291164    MALE  \n",
      "3           198.097524  4582.231660    MALE  \n",
      "4           224.175924  5915.503933  FEMALE  \n",
      "..                 ...          ...     ...  \n",
      "344         203.918004  4421.307861    MALE  \n",
      "345         174.195316  2756.567714  FEMALE  \n",
      "346         214.340542  4398.280301  FEMALE  \n",
      "347         183.680292  3378.813599    MALE  \n",
      "348         189.667516  3012.745583    MALE  \n",
      "\n",
      "[349 rows x 7 columns]\n",
      "\n",
      "-------------------------END OF ANSWER-------------------------\n",
      "\n"
     ]
    }
   ],
   "source": [
    "pddataUNCLEAN = pd.read_csv('penguins_size5.csv')\n",
    "pandasAnswer(pddataUNCLEAN)"
   ]
  },
  {
   "cell_type": "markdown",
   "metadata": {},
   "source": [
    "Q.2. شکل دیتاست را پیدا کنید (data of shape out find)\n",
    "\n",
    "Shape means its dimentions, so we use ```.shape``` to show us the dataset's shape."
   ]
  },
  {
   "cell_type": "code",
   "execution_count": 3,
   "metadata": {},
   "outputs": [
    {
     "name": "stdout",
     "output_type": "stream",
     "text": [
      "\n",
      "----------------------------ANSWER----------------------------\n",
      "\n",
      "(349, 7)\n",
      "\n",
      "-------------------------END OF ANSWER-------------------------\n",
      "\n",
      "None\n"
     ]
    }
   ],
   "source": [
    "print(pandasAnswer(pddataUNCLEAN.shape))"
   ]
  },
  {
   "cell_type": "markdown",
   "metadata": {},
   "source": [
    "Q.3. اطالعات آماری مربوط به دیتاست را پیدا کنید (info dataset find)\n",
    "\n",
    "pandas already has its own method ```.info``` that shows the first 5 rows of data with the shape of the data."
   ]
  },
  {
   "cell_type": "code",
   "execution_count": 4,
   "metadata": {},
   "outputs": [
    {
     "name": "stdout",
     "output_type": "stream",
     "text": [
      "\n",
      "----------------------------ANSWER----------------------------\n",
      "\n",
      "<bound method DataFrame.info of        species     island  culmen_length_mm  culmen_depth_mm  \\\n",
      "0    Chinstrap     Biscoe         39.641020        16.559920   \n",
      "1       Adelie     Biscoe         52.924312        21.198324   \n",
      "2    Chinstrap  Torgersen         56.974197        21.204410   \n",
      "3       Gentoo  Torgersen         36.457206        14.211573   \n",
      "4    Chinstrap     Biscoe         53.949836        15.695049   \n",
      "..         ...        ...               ...              ...   \n",
      "344  Chinstrap      Dream         41.898326        16.659695   \n",
      "345     Gentoo  Torgersen         46.888493        13.594821   \n",
      "346  Chinstrap      Dream         50.876891        20.188351   \n",
      "347  Chinstrap  Torgersen         58.894094        20.051153   \n",
      "348     Adelie  Torgersen         35.084555        19.225181   \n",
      "\n",
      "     flipper_length_mm  body_mass_g     sex  \n",
      "0           224.770654  6100.789185    MALE  \n",
      "1           200.424523  2910.212059    MALE  \n",
      "2           181.479774  3060.291164    MALE  \n",
      "3           198.097524  4582.231660    MALE  \n",
      "4           224.175924  5915.503933  FEMALE  \n",
      "..                 ...          ...     ...  \n",
      "344         203.918004  4421.307861    MALE  \n",
      "345         174.195316  2756.567714  FEMALE  \n",
      "346         214.340542  4398.280301  FEMALE  \n",
      "347         183.680292  3378.813599    MALE  \n",
      "348         189.667516  3012.745583    MALE  \n",
      "\n",
      "[349 rows x 7 columns]>\n",
      "\n",
      "-------------------------END OF ANSWER-------------------------\n",
      "\n"
     ]
    }
   ],
   "source": [
    "pandasAnswer(pddataUNCLEAN.info)"
   ]
  },
  {
   "cell_type": "code",
   "execution_count": 5,
   "metadata": {},
   "outputs": [
    {
     "name": "stdout",
     "output_type": "stream",
     "text": [
      "\n",
      "----------------------------ANSWER----------------------------\n",
      "\n",
      "<bound method NDFrame.describe of        species     island  culmen_length_mm  culmen_depth_mm  \\\n",
      "0    Chinstrap     Biscoe         39.641020        16.559920   \n",
      "1       Adelie     Biscoe         52.924312        21.198324   \n",
      "2    Chinstrap  Torgersen         56.974197        21.204410   \n",
      "3       Gentoo  Torgersen         36.457206        14.211573   \n",
      "4    Chinstrap     Biscoe         53.949836        15.695049   \n",
      "..         ...        ...               ...              ...   \n",
      "344  Chinstrap      Dream         41.898326        16.659695   \n",
      "345     Gentoo  Torgersen         46.888493        13.594821   \n",
      "346  Chinstrap      Dream         50.876891        20.188351   \n",
      "347  Chinstrap  Torgersen         58.894094        20.051153   \n",
      "348     Adelie  Torgersen         35.084555        19.225181   \n",
      "\n",
      "     flipper_length_mm  body_mass_g     sex  \n",
      "0           224.770654  6100.789185    MALE  \n",
      "1           200.424523  2910.212059    MALE  \n",
      "2           181.479774  3060.291164    MALE  \n",
      "3           198.097524  4582.231660    MALE  \n",
      "4           224.175924  5915.503933  FEMALE  \n",
      "..                 ...          ...     ...  \n",
      "344         203.918004  4421.307861    MALE  \n",
      "345         174.195316  2756.567714  FEMALE  \n",
      "346         214.340542  4398.280301  FEMALE  \n",
      "347         183.680292  3378.813599    MALE  \n",
      "348         189.667516  3012.745583    MALE  \n",
      "\n",
      "[349 rows x 7 columns]>\n",
      "\n",
      "-------------------------END OF ANSWER-------------------------\n",
      "\n"
     ]
    }
   ],
   "source": [
    "pandasAnswer(pddataUNCLEAN.describe)"
   ]
  },
  {
   "cell_type": "markdown",
   "metadata": {},
   "source": [
    "Q.4. مقادیر یونیک را در ستون گونه ها پیدا کنید (unique species)\n",
    "\n",
    "we'll grab species column with ```[\"species\"]```, then we'll grab unique ones by adding ```.unique()``` method."
   ]
  },
  {
   "cell_type": "code",
   "execution_count": 6,
   "metadata": {},
   "outputs": [
    {
     "name": "stdout",
     "output_type": "stream",
     "text": [
      "\n",
      "----------------------------ANSWER----------------------------\n",
      "\n",
      "['Chinstrap' 'Adelie' 'Gentoo' nan]\n",
      "\n",
      "-------------------------END OF ANSWER-------------------------\n",
      "\n"
     ]
    }
   ],
   "source": [
    "# Pandas\n",
    "q4_unique_species = pddataUNCLEAN[\"species\"].unique()\n",
    "pandasAnswer(q4_unique_species)"
   ]
  },
  {
   "cell_type": "markdown",
   "metadata": {},
   "source": [
    "Q.5. تعداد مقادیر نان هر ستون را بیابید. (find NaN values per columns)\n",
    "\n",
    "we'll call ```isna()``` method to see if a value is equal to Nan or not. then, we'll call ```sum()``` method to sum all of them altogether."
   ]
  },
  {
   "cell_type": "code",
   "execution_count": 7,
   "metadata": {},
   "outputs": [
    {
     "name": "stdout",
     "output_type": "stream",
     "text": [
      "\n",
      "----------------------------ANSWER----------------------------\n",
      "\n",
      "species               3\n",
      "island               13\n",
      "culmen_length_mm      4\n",
      "culmen_depth_mm      10\n",
      "flipper_length_mm     5\n",
      "body_mass_g          12\n",
      "sex                  11\n",
      "dtype: int64\n",
      "\n",
      "-------------------------END OF ANSWER-------------------------\n",
      "\n"
     ]
    }
   ],
   "source": [
    "# Pandas\n",
    "q5_nan_counts = pddataUNCLEAN.isna().sum()\n",
    "pandasAnswer(q5_nan_counts)"
   ]
  },
  {
   "cell_type": "markdown",
   "metadata": {},
   "source": [
    "So, it's important to clear the dataset out of ```Nan```s. We'll do that by ```dropna()``` method."
   ]
  },
  {
   "cell_type": "code",
   "execution_count": 8,
   "metadata": {},
   "outputs": [],
   "source": [
    "pddata = pddataUNCLEAN.dropna()"
   ]
  },
  {
   "cell_type": "markdown",
   "metadata": {},
   "source": [
    "Q.6. مقدار زیر را برای هر جزیره بیابید (find ```culmen_depth_mm``` in each island)\n",
    "\n",
    "```culmen_depth_mm```\n",
    "\n",
    "It needs ```culmen_depth_mm``` in each island. so, we'll group the dataset out of ```island``` and then grab ```culmen_depth_mm``` and in the end, we'll apply them into a list."
   ]
  },
  {
   "cell_type": "code",
   "execution_count": 9,
   "metadata": {},
   "outputs": [
    {
     "name": "stdout",
     "output_type": "stream",
     "text": [
      "\n",
      "----------------------------ANSWER----------------------------\n",
      "\n",
      "island\n",
      "Biscoe       [16.559920092667056, 21.19832391416987, 15.695...\n",
      "Dream        [18.52720750061792, 15.923554382720477, 16.583...\n",
      "Torgersen    [21.20440959828345, 14.211573109547974, 21.112...\n",
      "Name: culmen_depth_mm, dtype: object\n",
      "\n",
      "-------------------------END OF ANSWER-------------------------\n",
      "\n"
     ]
    }
   ],
   "source": [
    "#pandas\n",
    "\n",
    "q6_culmen_depth_per_island = pddata.groupby(\"island\")[\"culmen_depth_mm\"].apply(list)\n",
    "pandasAnswer(q6_culmen_depth_per_island)"
   ]
  },
  {
   "cell_type": "markdown",
   "metadata": {},
   "source": [
    "Q.7. جرم بدن هر کدام از جنسیت ها را بیابید (body mass in each sex)\n",
    "\n",
    "The solution of this question is pretty similar to the previous one. We need to group dataset out of ```sex``` and then grab ```body_mass_g``` and lastly, list them all."
   ]
  },
  {
   "cell_type": "code",
   "execution_count": 10,
   "metadata": {},
   "outputs": [
    {
     "name": "stdout",
     "output_type": "stream",
     "text": [
      "\n",
      "----------------------------ANSWER----------------------------\n",
      "\n",
      "sex\n",
      "FEMALE    [5915.50393343563, 3647.364787232397, 5917.708...\n",
      "MALE      [6100.78918485871, 2910.212058883836, 3060.291...\n",
      "Name: body_mass_g, dtype: object\n",
      "\n",
      "-------------------------END OF ANSWER-------------------------\n",
      "\n"
     ]
    }
   ],
   "source": [
    "#pandas\n",
    "\n",
    "q7_body_mass_g_per_sex = pddata.groupby(\"sex\")[\"body_mass_g\"].apply(list)\n",
    "pandasAnswer(q7_body_mass_g_per_sex)"
   ]
  },
  {
   "cell_type": "markdown",
   "metadata": {},
   "source": [
    "Q.8. گونه های موجود در هر جزیره را بیابید (species in each island)\n",
    "\n",
    "Exactly like the two previous questions, We'll grab ```islands``` and take ```species``` out of them and create a list of all of these."
   ]
  },
  {
   "cell_type": "code",
   "execution_count": 11,
   "metadata": {},
   "outputs": [
    {
     "name": "stdout",
     "output_type": "stream",
     "text": [
      "\n",
      "----------------------------ANSWER----------------------------\n",
      "\n",
      "island\n",
      "Biscoe       [Chinstrap, Adelie, Chinstrap, Adelie, Chinstr...\n",
      "Dream        [Chinstrap, Chinstrap, Gentoo, Adelie, Chinstr...\n",
      "Torgersen    [Chinstrap, Gentoo, Gentoo, Chinstrap, Gentoo,...\n",
      "Name: species, dtype: object\n",
      "\n",
      "-------------------------END OF ANSWER-------------------------\n",
      "\n"
     ]
    }
   ],
   "source": [
    "#pandas\n",
    "\n",
    "q8_species_per_island = pddata.groupby(\"island\")[\"species\"].apply(list)\n",
    "pandasAnswer(q8_species_per_island)"
   ]
  },
  {
   "cell_type": "markdown",
   "metadata": {},
   "source": [
    "Q.9. نسبت پنگوئن های ماده در هر گونه را بیابید (Share of female penguins in each species)\n",
    "\n",
    "When it comes to \"share of something\", we need the percentage of that something out of total. So, per species (in a group of species), We'll find the amount of ```FEMALE``` sex per species. The total amount of each species would be the size of each species that's been grouped with ```.groupby()``` method. In the end, we'll display results as a percentage."
   ]
  },
  {
   "cell_type": "code",
   "execution_count": 12,
   "metadata": {},
   "outputs": [
    {
     "name": "stdout",
     "output_type": "stream",
     "text": [
      "\n",
      "----------------------------ANSWER----------------------------\n",
      "\n",
      "species\n",
      "Adelie       40.909091\n",
      "Chinstrap    42.553191\n",
      "Gentoo       43.750000\n",
      "dtype: float64\n",
      "\n",
      "-------------------------END OF ANSWER-------------------------\n",
      "\n"
     ]
    }
   ],
   "source": [
    "q9_countof_female_per_species = pddata[pddata[\"sex\"] == 'FEMALE'].groupby(\"species\").size()\n",
    "\n",
    "q9_countof_each_species = pddata.groupby(\"species\").size()\n",
    "\n",
    "pandasAnswer((q9_countof_female_per_species / q9_countof_each_species) * 100)\n"
   ]
  },
  {
   "cell_type": "markdown",
   "metadata": {},
   "source": [
    "Q.10. طول منقار گونه های موجود در دیتاست را باهم مقایسه کنید مینیمم ماکزیمم میانگین (```flipper_length_mm``` comparisons between species (min, max, mean))\n",
    "\n",
    "This question basically wants us to find each species' ```flipper_length_mm```'s minimum, maximum, and mean values.\n",
    "\n",
    "To do that...\n",
    "\n",
    "1. we're going to grab ```flipper_length_mm``` of each species and turning it into a list.\n",
    "2. we'll put out min, max, and values of each ```flipper_length_mm``` amounts of each species.\n",
    "3. we'll create a new dataset that has each species' min, max, and mean value of ```flipper_length_mm```\n",
    "4. We'll collect all values of the ```Min``` column and will append values to a list.\n",
    "5. to compare values of the ```Min``` list, we'll need to save each values' position in the list because that position relies with the value's raw number in the main data frame. that's why we'll create a dictionary that will record all positions of the list.\n",
    "6. We'll sort the list with \"Bubble sort\" technique.\n",
    "7. You can imagine that the sorted list's values are compared correctly but we need to replace numbers with required index (by index, I mean the species). So, per object of the sorted list, we'll find its raw (with the dictionary we made at 5th step) and we'll grab the rawth index. We can say, this step basically translates numbers into its raw (with step 5's dictionary) and from raw to index (with ```dataframe.index[dict_pos[i]]```)\n",
    "8. by joining ```>``` into the list"
   ]
  },
  {
   "cell_type": "code",
   "execution_count": 82,
   "metadata": {},
   "outputs": [
    {
     "name": "stdout",
     "output_type": "stream",
     "text": [
      "Adelie\n",
      "Gentoo\n",
      "Chinstrap\n",
      "Chinstrap\n",
      "Adelie\n",
      "Gentoo\n",
      "Chinstrap\n",
      "Adelie\n",
      "Gentoo\n",
      "\n",
      "----------------------------ANSWER----------------------------\n",
      "\n",
      "                  Min         Max        Mean\n",
      "species                                      \n",
      "Adelie     230.126074  199.714927  173.108895\n",
      "Chinstrap  230.778038  199.413061  172.371416\n",
      "Gentoo     230.628495  201.734706  173.401952\n",
      "\n",
      "\n",
      "A compare of the each species' minimums:\n",
      "Adelie < Gentoo < Chinstrap\n",
      "\n",
      "A compare of the each species' maximums:\n",
      "Chinstrap < Adelie < Gentoo\n",
      "\n",
      "A compare of the each species' means:\n",
      "Chinstrap < Adelie < Gentoo\n",
      "\n",
      "\n",
      "\n",
      "-------------------------END OF ANSWER-------------------------\n",
      "\n"
     ]
    }
   ],
   "source": [
    "q10_flipper_length_per_species = pddata.groupby(\"species\")[\"flipper_length_mm\"].apply(list)\n",
    "\n",
    "q10_max = q10_flipper_length_per_species.apply(max)\n",
    "q10_min = q10_flipper_length_per_species.apply(min)\n",
    "q10_mean = q10_flipper_length_per_species.apply(lambda x: sum(x) / len(x))  # Calculate mean manually\n",
    "\n",
    "q10_stats = pd.DataFrame({\n",
    "    \"Min\": q10_max,\n",
    "    \"Max\": q10_mean,\n",
    "    \"Mean\": q10_min,\n",
    "})\n",
    "\n",
    "def compare(dataframe, entry):\n",
    "    dict_pos = {i: entry.index(i) for i in entry}\n",
    "    n = len(entry)\n",
    "    for i in range(n):\n",
    "        for j in range(0, n-i-1):\n",
    "            if entry[j] > entry[j + 1]:\n",
    "                entry[j], entry[j + 1] = entry[j + 1], entry[j]\n",
    "    \n",
    "    compare_names = []\n",
    "    for i in entry:\n",
    "        print(dataframe.index[dict_pos[i]])\n",
    "        compare_names.append(dataframe.index[dict_pos[i]])\n",
    "        \n",
    "    return \" < \".join(compare_names)\n",
    "    \n",
    "def q10_results(dataframe):\n",
    "    answer = \"\"\n",
    "    mins = []\n",
    "    maxs = []\n",
    "    means = []\n",
    "    \n",
    "    answer += q10_stats.to_string()\n",
    "    \n",
    "    answer += \"\\n\\n\\n\"\n",
    "    \n",
    "    \n",
    "    mins.extend(dataframe[\"Min\"])\n",
    "    answer += \"A compare of the each species' minimums:\\n\"\n",
    "    answer += compare(dataframe, mins)\n",
    "    answer += \"\\n\\n\"\n",
    "    \n",
    "    \n",
    "    answer += \"A compare of the each species' maximums:\\n\"\n",
    "    maxs.extend(dataframe[\"Max\"])\n",
    "    answer += compare(dataframe, maxs)\n",
    "    answer += \"\\n\\n\"\n",
    "    \n",
    "    answer += \"A compare of the each species' means:\\n\"\n",
    "    means.extend(dataframe[\"Mean\"])\n",
    "    answer += compare(dataframe, means)\n",
    "    answer += \"\\n\\n\"\n",
    "    \n",
    "    \n",
    "    return answer\n",
    "\n",
    "\n",
    "pandasAnswer(q10_results(q10_stats))"
   ]
  }
 ],
 "metadata": {
  "kernelspec": {
   "display_name": "Python 3",
   "language": "python",
   "name": "python3"
  },
  "language_info": {
   "codemirror_mode": {
    "name": "ipython",
    "version": 3
   },
   "file_extension": ".py",
   "mimetype": "text/x-python",
   "name": "python",
   "nbconvert_exporter": "python",
   "pygments_lexer": "ipython3",
   "version": "3.10.12"
  }
 },
 "nbformat": 4,
 "nbformat_minor": 2
}
