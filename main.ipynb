{
 "cells": [
  {
   "cell_type": "markdown",
   "metadata": {},
   "source": [
    "First step is to import the required libraries, pandas and matplotlib."
   ]
  },
  {
   "cell_type": "code",
   "execution_count": 1,
   "metadata": {},
   "outputs": [],
   "source": [
    "import pandas as pd    \n",
    "    \n",
    "def pandasAnswer(entry):\n",
    "    print(\"\\n----------------------------ANSWER----------------------------\\n\")\n",
    "    print(entry)\n",
    "    print(\"\\n-------------------------END OF ANSWER-------------------------\\n\")"
   ]
  },
  {
   "cell_type": "markdown",
   "metadata": {},
   "source": [
    "Q.1. خواندن دیتاست (dataset read)\n",
    "\n",
    "My dataset is the fifth one so we're going to import them.\n",
    "\n",
    "we'll use ```read_csv```"
   ]
  },
  {
   "cell_type": "code",
   "execution_count": 2,
   "metadata": {},
   "outputs": [
    {
     "name": "stdout",
     "output_type": "stream",
     "text": [
      "\n",
      "----------------------------ANSWER----------------------------\n",
      "\n",
      "       species     island  culmen_length_mm  culmen_depth_mm  \\\n",
      "0    Chinstrap     Biscoe         39.641020        16.559920   \n",
      "1       Adelie     Biscoe         52.924312        21.198324   \n",
      "2    Chinstrap  Torgersen         56.974197        21.204410   \n",
      "3       Gentoo  Torgersen         36.457206        14.211573   \n",
      "4    Chinstrap     Biscoe         53.949836        15.695049   \n",
      "..         ...        ...               ...              ...   \n",
      "344  Chinstrap      Dream         41.898326        16.659695   \n",
      "345     Gentoo  Torgersen         46.888493        13.594821   \n",
      "346  Chinstrap      Dream         50.876891        20.188351   \n",
      "347  Chinstrap  Torgersen         58.894094        20.051153   \n",
      "348     Adelie  Torgersen         35.084555        19.225181   \n",
      "\n",
      "     flipper_length_mm  body_mass_g     sex  \n",
      "0           224.770654  6100.789185    MALE  \n",
      "1           200.424523  2910.212059    MALE  \n",
      "2           181.479774  3060.291164    MALE  \n",
      "3           198.097524  4582.231660    MALE  \n",
      "4           224.175924  5915.503933  FEMALE  \n",
      "..                 ...          ...     ...  \n",
      "344         203.918004  4421.307861    MALE  \n",
      "345         174.195316  2756.567714  FEMALE  \n",
      "346         214.340542  4398.280301  FEMALE  \n",
      "347         183.680292  3378.813599    MALE  \n",
      "348         189.667516  3012.745583    MALE  \n",
      "\n",
      "[349 rows x 7 columns]\n",
      "\n",
      "-------------------------END OF ANSWER-------------------------\n",
      "\n"
     ]
    }
   ],
   "source": [
    "pddata = pd.read_csv('penguins_size5.csv')\n",
    "pandasAnswer(pddata)"
   ]
  },
  {
   "cell_type": "markdown",
   "metadata": {},
   "source": [
    "Q.2. شکل دیتاست را پیدا کنید (data of shape out find)\n",
    "\n",
    "Shape means its dimentions, so we use ```.shape``` to show us the dataset's shape."
   ]
  },
  {
   "cell_type": "code",
   "execution_count": 3,
   "metadata": {},
   "outputs": [
    {
     "name": "stdout",
     "output_type": "stream",
     "text": [
      "\n",
      "----------------------------ANSWER----------------------------\n",
      "\n",
      "(349, 7)\n",
      "\n",
      "-------------------------END OF ANSWER-------------------------\n",
      "\n",
      "None\n"
     ]
    }
   ],
   "source": [
    "print(pandasAnswer(pddata.shape))"
   ]
  },
  {
   "cell_type": "markdown",
   "metadata": {},
   "source": [
    "Q.3. اطالعات آماری مربوط به دیتاست را پیدا کنید (info dataset find)\n",
    "\n",
    "pandas already has its own method ```.info``` that shows the first 5 rows of data with the shape of the data."
   ]
  },
  {
   "cell_type": "code",
   "execution_count": 4,
   "metadata": {},
   "outputs": [
    {
     "name": "stdout",
     "output_type": "stream",
     "text": [
      "\n",
      "----------------------------ANSWER----------------------------\n",
      "\n",
      "<bound method DataFrame.info of        species     island  culmen_length_mm  culmen_depth_mm  \\\n",
      "0    Chinstrap     Biscoe         39.641020        16.559920   \n",
      "1       Adelie     Biscoe         52.924312        21.198324   \n",
      "2    Chinstrap  Torgersen         56.974197        21.204410   \n",
      "3       Gentoo  Torgersen         36.457206        14.211573   \n",
      "4    Chinstrap     Biscoe         53.949836        15.695049   \n",
      "..         ...        ...               ...              ...   \n",
      "344  Chinstrap      Dream         41.898326        16.659695   \n",
      "345     Gentoo  Torgersen         46.888493        13.594821   \n",
      "346  Chinstrap      Dream         50.876891        20.188351   \n",
      "347  Chinstrap  Torgersen         58.894094        20.051153   \n",
      "348     Adelie  Torgersen         35.084555        19.225181   \n",
      "\n",
      "     flipper_length_mm  body_mass_g     sex  \n",
      "0           224.770654  6100.789185    MALE  \n",
      "1           200.424523  2910.212059    MALE  \n",
      "2           181.479774  3060.291164    MALE  \n",
      "3           198.097524  4582.231660    MALE  \n",
      "4           224.175924  5915.503933  FEMALE  \n",
      "..                 ...          ...     ...  \n",
      "344         203.918004  4421.307861    MALE  \n",
      "345         174.195316  2756.567714  FEMALE  \n",
      "346         214.340542  4398.280301  FEMALE  \n",
      "347         183.680292  3378.813599    MALE  \n",
      "348         189.667516  3012.745583    MALE  \n",
      "\n",
      "[349 rows x 7 columns]>\n",
      "\n",
      "-------------------------END OF ANSWER-------------------------\n",
      "\n"
     ]
    }
   ],
   "source": [
    "pandasAnswer(pddata.info)"
   ]
  },
  {
   "cell_type": "code",
   "execution_count": 5,
   "metadata": {},
   "outputs": [
    {
     "name": "stdout",
     "output_type": "stream",
     "text": [
      "\n",
      "----------------------------ANSWER----------------------------\n",
      "\n",
      "<bound method NDFrame.describe of        species     island  culmen_length_mm  culmen_depth_mm  \\\n",
      "0    Chinstrap     Biscoe         39.641020        16.559920   \n",
      "1       Adelie     Biscoe         52.924312        21.198324   \n",
      "2    Chinstrap  Torgersen         56.974197        21.204410   \n",
      "3       Gentoo  Torgersen         36.457206        14.211573   \n",
      "4    Chinstrap     Biscoe         53.949836        15.695049   \n",
      "..         ...        ...               ...              ...   \n",
      "344  Chinstrap      Dream         41.898326        16.659695   \n",
      "345     Gentoo  Torgersen         46.888493        13.594821   \n",
      "346  Chinstrap      Dream         50.876891        20.188351   \n",
      "347  Chinstrap  Torgersen         58.894094        20.051153   \n",
      "348     Adelie  Torgersen         35.084555        19.225181   \n",
      "\n",
      "     flipper_length_mm  body_mass_g     sex  \n",
      "0           224.770654  6100.789185    MALE  \n",
      "1           200.424523  2910.212059    MALE  \n",
      "2           181.479774  3060.291164    MALE  \n",
      "3           198.097524  4582.231660    MALE  \n",
      "4           224.175924  5915.503933  FEMALE  \n",
      "..                 ...          ...     ...  \n",
      "344         203.918004  4421.307861    MALE  \n",
      "345         174.195316  2756.567714  FEMALE  \n",
      "346         214.340542  4398.280301  FEMALE  \n",
      "347         183.680292  3378.813599    MALE  \n",
      "348         189.667516  3012.745583    MALE  \n",
      "\n",
      "[349 rows x 7 columns]>\n",
      "\n",
      "-------------------------END OF ANSWER-------------------------\n",
      "\n"
     ]
    }
   ],
   "source": [
    "pandasAnswer(pddata.describe)"
   ]
  },
  {
   "cell_type": "markdown",
   "metadata": {},
   "source": [
    "Q.4. مقادیر یونیک را در ستون گونه ها پیدا کنید (unique species)\n",
    "\n",
    "we'll grab species column with ```[\"species\"]```, then we'll grab unique ones by adding ```.unique()``` method."
   ]
  },
  {
   "cell_type": "code",
   "execution_count": 6,
   "metadata": {},
   "outputs": [
    {
     "name": "stdout",
     "output_type": "stream",
     "text": [
      "\n",
      "----------------------------ANSWER----------------------------\n",
      "\n",
      "['Chinstrap' 'Adelie' 'Gentoo' nan]\n",
      "\n",
      "-------------------------END OF ANSWER-------------------------\n",
      "\n"
     ]
    }
   ],
   "source": [
    "# Pandas\n",
    "pdunique_species = pddata[\"species\"].unique()\n",
    "pandasAnswer(pdunique_species)"
   ]
  },
  {
   "cell_type": "markdown",
   "metadata": {},
   "source": [
    "Q.5. تعداد مقادیر نان هر ستون را بیابید. (find NaN values per columns)\n",
    "\n",
    "we'll call ```isna()``` method to see if a value is equal to Nan or not. then, we'll call ```sum()``` method to sum all of them altogether."
   ]
  },
  {
   "cell_type": "code",
   "execution_count": 13,
   "metadata": {},
   "outputs": [
    {
     "name": "stdout",
     "output_type": "stream",
     "text": [
      "\n",
      "----------------------------ANSWER----------------------------\n",
      "\n",
      "species               3\n",
      "island               13\n",
      "culmen_length_mm      4\n",
      "culmen_depth_mm      10\n",
      "flipper_length_mm     5\n",
      "body_mass_g          12\n",
      "sex                  11\n",
      "dtype: int64\n",
      "\n",
      "-------------------------END OF ANSWER-------------------------\n",
      "\n"
     ]
    }
   ],
   "source": [
    "# Pandas\n",
    "panan_counts = pddata.isna().sum()\n",
    "pandasAnswer(panan_counts)"
   ]
  },
  {
   "cell_type": "markdown",
   "metadata": {},
   "source": [
    "Q.6. مقدار زیر را برای هر جزیره بیابید (find ```culmen_depth_mm``` in each island)\n",
    "\n",
    "```culmen_depth_mm```\n",
    "\n",
    "It needs ```culmen_depth_mm``` in each island. so, we'll group the dataset out of ```island``` and then grab ```culmen_depth_mm``` and in the end, we'll apply them into a list."
   ]
  },
  {
   "cell_type": "code",
   "execution_count": 14,
   "metadata": {},
   "outputs": [
    {
     "name": "stdout",
     "output_type": "stream",
     "text": [
      "\n",
      "----------------------------ANSWER----------------------------\n",
      "\n",
      "island\n",
      "Biscoe       [16.559920092667056, 21.19832391416987, 15.695...\n",
      "Dream        [18.52720750061792, 15.923554382720477, 16.583...\n",
      "Torgersen    [21.20440959828345, 14.211573109547974, 21.112...\n",
      "Name: culmen_depth_mm, dtype: object\n",
      "\n",
      "-------------------------END OF ANSWER-------------------------\n",
      "\n"
     ]
    }
   ],
   "source": [
    "#pandas\n",
    "\n",
    "pdculmen_depth_per_island = pddata.groupby(\"island\")[\"culmen_depth_mm\"].apply(list)\n",
    "pandasAnswer(pdculmen_depth_per_island)"
   ]
  },
  {
   "cell_type": "markdown",
   "metadata": {},
   "source": [
    "Q.7. Find body mass in each sex"
   ]
  },
  {
   "cell_type": "code",
   "execution_count": 9,
   "metadata": {},
   "outputs": [
    {
     "name": "stdout",
     "output_type": "stream",
     "text": [
      "\n",
      "----------------------------ANSWER----------------------------\n",
      "\n",
      "sex\n",
      "FEMALE    [5915.50393343563, 3647.364787232397, 5917.708...\n",
      "MALE      [6100.78918485871, 2910.212058883836, 3060.291...\n",
      "Name: body_mass_g, dtype: object\n",
      "\n",
      "-------------------------END OF ANSWER-------------------------\n",
      "\n"
     ]
    }
   ],
   "source": [
    "#pandas\n",
    "\n",
    "pdcolumns_depth_per_island = pddata.groupby(\"sex\")[\"body_mass_g\"].apply(list)\n",
    "pandasAnswer(pdcolumns_depth_per_island)"
   ]
  },
  {
   "cell_type": "markdown",
   "metadata": {},
   "source": [
    "Q.8. Species in each land"
   ]
  },
  {
   "cell_type": "code",
   "execution_count": 10,
   "metadata": {},
   "outputs": [
    {
     "name": "stdout",
     "output_type": "stream",
     "text": [
      "\n",
      "----------------------------ANSWER----------------------------\n",
      "\n",
      "island\n",
      "Biscoe       [Chinstrap, Adelie, Chinstrap, Adelie, Chinstr...\n",
      "Dream        [Chinstrap, Chinstrap, Gentoo, Adelie, Chinstr...\n",
      "Torgersen    [Chinstrap, Gentoo, Gentoo, Chinstrap, Gentoo,...\n",
      "Name: species, dtype: object\n",
      "\n",
      "-------------------------END OF ANSWER-------------------------\n",
      "\n"
     ]
    }
   ],
   "source": [
    "#pandas\n",
    "\n",
    "pdcolumns_depth_per_island = pddata.groupby(\"island\")[\"species\"].apply(list)\n",
    "pandasAnswer(pdcolumns_depth_per_island)"
   ]
  },
  {
   "cell_type": "markdown",
   "metadata": {},
   "source": [
    "Q.9. share of female penguins in each species"
   ]
  },
  {
   "cell_type": "code",
   "execution_count": 11,
   "metadata": {},
   "outputs": [
    {
     "name": "stdout",
     "output_type": "stream",
     "text": [
      "\n",
      "----------------------------ANSWER----------------------------\n",
      "\n",
      "species\n",
      "Adelie       38.461538\n",
      "Chinstrap    42.990654\n",
      "Gentoo       42.222222\n",
      "dtype: float64\n",
      "\n",
      "-------------------------END OF ANSWER-------------------------\n",
      "\n"
     ]
    }
   ],
   "source": [
    "# Filter the data where sex is 'FEMALE' and group by 'species'\n",
    "pdcolumns_depth_per_island = pddata[pddata[\"sex\"] == 'FEMALE'].groupby(\"species\").size()\n",
    "\n",
    "# Group by 'species' and count the total population (all sexes)\n",
    "Q9T = pddata.groupby(\"species\").size()\n",
    "\n",
    "# Display the result as a percentage\n",
    "pandasAnswer((pdcolumns_depth_per_island / Q9T) * 100)\n"
   ]
  },
  {
   "cell_type": "markdown",
   "metadata": {},
   "source": [
    "Q.10. "
   ]
  }
 ],
 "metadata": {
  "kernelspec": {
   "display_name": "Python 3",
   "language": "python",
   "name": "python3"
  },
  "language_info": {
   "codemirror_mode": {
    "name": "ipython",
    "version": 3
   },
   "file_extension": ".py",
   "mimetype": "text/x-python",
   "name": "python",
   "nbconvert_exporter": "python",
   "pygments_lexer": "ipython3",
   "version": "3.10.12"
  }
 },
 "nbformat": 4,
 "nbformat_minor": 2
}
