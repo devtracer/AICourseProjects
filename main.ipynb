{
 "cells": [
  {
   "cell_type": "markdown",
   "metadata": {},
   "source": [
    "First step is to import the required libraries, pandas and matplotlib."
   ]
  },
  {
   "cell_type": "code",
   "execution_count": 1,
   "metadata": {},
   "outputs": [
    {
     "name": "stdout",
     "output_type": "stream",
     "text": [
      "Pandas version: 2.2.3\n",
      "Matplotlib version: 3.9.3\n",
      "SciPy version: 1.14.1\n"
     ]
    },
    {
     "name": "stderr",
     "output_type": "stream",
     "text": [
      "/home/useradmin/.local/lib/python3.10/site-packages/matplotlib/projections/__init__.py:63: UserWarning: Unable to import Axes3D. This may be due to multiple versions of Matplotlib being installed (e.g. as a system package and as a pip package). As a result, the 3D projection is not available.\n",
      "  warnings.warn(\"Unable to import Axes3D. This may be due to multiple versions of \"\n"
     ]
    }
   ],
   "source": [
    "import pandas as pd\n",
    "import matplotlib.pyplot as plt\n",
    "import matplotlib\n",
    "import scipy\n",
    "from scipy.stats import shapiro\n",
    "\n",
    "print(f\"Pandas version: {pd.__version__}\")\n",
    "print(f\"Matplotlib version: {matplotlib.__version__}\")\n",
    "print(f\"SciPy version: {scipy.__version__}\")\n",
    "    \n",
    "def pandasAnswer(entry):\n",
    "    print(\"\\n----------------------------ANSWER----------------------------\\n\")\n",
    "    print(entry)\n",
    "    print(\"\\n-------------------------END OF ANSWER-------------------------\\n\")"
   ]
  },
  {
   "cell_type": "markdown",
   "metadata": {},
   "source": [
    "Q.1. خواندن دیتاست (dataset read)\n",
    "\n",
    "My dataset is the fifth one so we're going to import them.\n",
    "\n",
    "we'll use ```read_csv```. The ```read_csv``` function reads CSV files into a Pandas DataFrame for easy data manipulation and analysis."
   ]
  },
  {
   "cell_type": "code",
   "execution_count": 2,
   "metadata": {},
   "outputs": [
    {
     "name": "stdout",
     "output_type": "stream",
     "text": [
      "\n",
      "----------------------------ANSWER----------------------------\n",
      "\n",
      "       species     island  culmen_length_mm  culmen_depth_mm  \\\n",
      "0    Chinstrap     Biscoe         39.641020        16.559920   \n",
      "1       Adelie     Biscoe         52.924312        21.198324   \n",
      "2    Chinstrap  Torgersen         56.974197        21.204410   \n",
      "3       Gentoo  Torgersen         36.457206        14.211573   \n",
      "4    Chinstrap     Biscoe         53.949836        15.695049   \n",
      "..         ...        ...               ...              ...   \n",
      "344  Chinstrap      Dream         41.898326        16.659695   \n",
      "345     Gentoo  Torgersen         46.888493        13.594821   \n",
      "346  Chinstrap      Dream         50.876891        20.188351   \n",
      "347  Chinstrap  Torgersen         58.894094        20.051153   \n",
      "348     Adelie  Torgersen         35.084555        19.225181   \n",
      "\n",
      "     flipper_length_mm  body_mass_g     sex  \n",
      "0           224.770654  6100.789185    MALE  \n",
      "1           200.424523  2910.212059    MALE  \n",
      "2           181.479774  3060.291164    MALE  \n",
      "3           198.097524  4582.231660    MALE  \n",
      "4           224.175924  5915.503933  FEMALE  \n",
      "..                 ...          ...     ...  \n",
      "344         203.918004  4421.307861    MALE  \n",
      "345         174.195316  2756.567714  FEMALE  \n",
      "346         214.340542  4398.280301  FEMALE  \n",
      "347         183.680292  3378.813599    MALE  \n",
      "348         189.667516  3012.745583    MALE  \n",
      "\n",
      "[349 rows x 7 columns]\n",
      "\n",
      "-------------------------END OF ANSWER-------------------------\n",
      "\n"
     ]
    }
   ],
   "source": [
    "pddataUNCLEAN = pd.read_csv('penguins_size5.csv')\n",
    "pandasAnswer(pddataUNCLEAN)"
   ]
  },
  {
   "cell_type": "markdown",
   "metadata": {},
   "source": [
    "Q.2. شکل دیتاست را پیدا کنید (Find the shape of the dataset)\n",
    "\n",
    "Shape refers to the number of rows and columns in the DataFrame. The ```.shape``` attribute returns a tuple representing these dimensions: ```(number_of_rows, number_of_columns)```"
   ]
  },
  {
   "cell_type": "code",
   "execution_count": 3,
   "metadata": {},
   "outputs": [
    {
     "name": "stdout",
     "output_type": "stream",
     "text": [
      "\n",
      "----------------------------ANSWER----------------------------\n",
      "\n",
      "(349, 7)\n",
      "\n",
      "-------------------------END OF ANSWER-------------------------\n",
      "\n",
      "None\n"
     ]
    }
   ],
   "source": [
    "print(pandasAnswer(pddataUNCLEAN.shape))"
   ]
  },
  {
   "cell_type": "markdown",
   "metadata": {},
   "source": [
    "Q.3. اطالعات آماری مربوط به دیتاست را پیدا کنید (Find the statistical information about the dataset)\n",
    "\n",
    "pandas has ```.info``` and ```.describe``` that provide summary information about the DataFrame."
   ]
  },
  {
   "cell_type": "code",
   "execution_count": 4,
   "metadata": {},
   "outputs": [
    {
     "name": "stdout",
     "output_type": "stream",
     "text": [
      "\n",
      "----------------------------ANSWER----------------------------\n",
      "\n",
      "<bound method DataFrame.info of        species     island  culmen_length_mm  culmen_depth_mm  \\\n",
      "0    Chinstrap     Biscoe         39.641020        16.559920   \n",
      "1       Adelie     Biscoe         52.924312        21.198324   \n",
      "2    Chinstrap  Torgersen         56.974197        21.204410   \n",
      "3       Gentoo  Torgersen         36.457206        14.211573   \n",
      "4    Chinstrap     Biscoe         53.949836        15.695049   \n",
      "..         ...        ...               ...              ...   \n",
      "344  Chinstrap      Dream         41.898326        16.659695   \n",
      "345     Gentoo  Torgersen         46.888493        13.594821   \n",
      "346  Chinstrap      Dream         50.876891        20.188351   \n",
      "347  Chinstrap  Torgersen         58.894094        20.051153   \n",
      "348     Adelie  Torgersen         35.084555        19.225181   \n",
      "\n",
      "     flipper_length_mm  body_mass_g     sex  \n",
      "0           224.770654  6100.789185    MALE  \n",
      "1           200.424523  2910.212059    MALE  \n",
      "2           181.479774  3060.291164    MALE  \n",
      "3           198.097524  4582.231660    MALE  \n",
      "4           224.175924  5915.503933  FEMALE  \n",
      "..                 ...          ...     ...  \n",
      "344         203.918004  4421.307861    MALE  \n",
      "345         174.195316  2756.567714  FEMALE  \n",
      "346         214.340542  4398.280301  FEMALE  \n",
      "347         183.680292  3378.813599    MALE  \n",
      "348         189.667516  3012.745583    MALE  \n",
      "\n",
      "[349 rows x 7 columns]>\n",
      "\n",
      "-------------------------END OF ANSWER-------------------------\n",
      "\n"
     ]
    }
   ],
   "source": [
    "pandasAnswer(pddataUNCLEAN.info)"
   ]
  },
  {
   "cell_type": "code",
   "execution_count": 5,
   "metadata": {},
   "outputs": [
    {
     "name": "stdout",
     "output_type": "stream",
     "text": [
      "\n",
      "----------------------------ANSWER----------------------------\n",
      "\n",
      "<bound method NDFrame.describe of        species     island  culmen_length_mm  culmen_depth_mm  \\\n",
      "0    Chinstrap     Biscoe         39.641020        16.559920   \n",
      "1       Adelie     Biscoe         52.924312        21.198324   \n",
      "2    Chinstrap  Torgersen         56.974197        21.204410   \n",
      "3       Gentoo  Torgersen         36.457206        14.211573   \n",
      "4    Chinstrap     Biscoe         53.949836        15.695049   \n",
      "..         ...        ...               ...              ...   \n",
      "344  Chinstrap      Dream         41.898326        16.659695   \n",
      "345     Gentoo  Torgersen         46.888493        13.594821   \n",
      "346  Chinstrap      Dream         50.876891        20.188351   \n",
      "347  Chinstrap  Torgersen         58.894094        20.051153   \n",
      "348     Adelie  Torgersen         35.084555        19.225181   \n",
      "\n",
      "     flipper_length_mm  body_mass_g     sex  \n",
      "0           224.770654  6100.789185    MALE  \n",
      "1           200.424523  2910.212059    MALE  \n",
      "2           181.479774  3060.291164    MALE  \n",
      "3           198.097524  4582.231660    MALE  \n",
      "4           224.175924  5915.503933  FEMALE  \n",
      "..                 ...          ...     ...  \n",
      "344         203.918004  4421.307861    MALE  \n",
      "345         174.195316  2756.567714  FEMALE  \n",
      "346         214.340542  4398.280301  FEMALE  \n",
      "347         183.680292  3378.813599    MALE  \n",
      "348         189.667516  3012.745583    MALE  \n",
      "\n",
      "[349 rows x 7 columns]>\n",
      "\n",
      "-------------------------END OF ANSWER-------------------------\n",
      "\n"
     ]
    }
   ],
   "source": [
    "pandasAnswer(pddataUNCLEAN.describe)"
   ]
  },
  {
   "cell_type": "markdown",
   "metadata": {},
   "source": [
    "Q.4. مقادیر یونیک را در ستون گونه ها پیدا کنید (Find the unique values in the species column)\n",
    "\n",
    "We access the species column using ```[\"species\"]```, and then we use ```.unique()``` to get the unique values in that column. The ```.dropna()``` method is used to remove any NaN (missing) values from the column before applying ```.unique()```. This ensures we're only working with actual species values."
   ]
  },
  {
   "cell_type": "code",
   "execution_count": 20,
   "metadata": {},
   "outputs": [
    {
     "name": "stdout",
     "output_type": "stream",
     "text": [
      "\n",
      "----------------------------ANSWER----------------------------\n",
      "\n",
      "['Chinstrap' 'Adelie' 'Gentoo']\n",
      "\n",
      "-------------------------END OF ANSWER-------------------------\n",
      "\n"
     ]
    }
   ],
   "source": [
    "# Pandas\n",
    "q4_unique_species = pddataUNCLEAN[\"species\"].dropna().unique()\n",
    "pandasAnswer(q4_unique_species)"
   ]
  },
  {
   "cell_type": "markdown",
   "metadata": {},
   "source": [
    "Q.5. تعداد مقادیر نان هر ستون را بیابید. (Find the number of NaN values per column.)\n",
    "\n",
    "```isna()``` checks for NaN values and returns a Boolean DataFrame where True indicates a NaN. By calling ```.sum()```, we sum the True values, which gives the total number of NaN values per column."
   ]
  },
  {
   "cell_type": "code",
   "execution_count": 7,
   "metadata": {},
   "outputs": [
    {
     "name": "stdout",
     "output_type": "stream",
     "text": [
      "\n",
      "----------------------------ANSWER----------------------------\n",
      "\n",
      "species               3\n",
      "island               13\n",
      "culmen_length_mm      4\n",
      "culmen_depth_mm      10\n",
      "flipper_length_mm     5\n",
      "body_mass_g          12\n",
      "sex                  11\n",
      "dtype: int64\n",
      "\n",
      "-------------------------END OF ANSWER-------------------------\n",
      "\n"
     ]
    }
   ],
   "source": [
    "# Pandas\n",
    "q5_nan_counts = pddataUNCLEAN.isna().sum()\n",
    "pandasAnswer(q5_nan_counts)"
   ]
  },
  {
   "cell_type": "markdown",
   "metadata": {},
   "source": [
    "So, it's important to clear the dataset out of ```Nan```s. We'll do that by ```dropna()``` method."
   ]
  },
  {
   "cell_type": "code",
   "execution_count": 8,
   "metadata": {},
   "outputs": [],
   "source": [
    "pddata = pddataUNCLEAN.dropna()"
   ]
  },
  {
   "cell_type": "markdown",
   "metadata": {},
   "source": [
    "Q.6. مقدار زیر را برای هر جزیره بیابید (find the ```culmen_depth_mm``` values for each island)\n",
    "\n",
    "```culmen_depth_mm```\n",
    "\n",
    "We first group the dataset by the island column using the ```.groupby()``` method. Then, we select the ```culmen_depth_mm``` column from each group. Finally, we use ```.apply(list)``` to convert the values of each group into a list."
   ]
  },
  {
   "cell_type": "code",
   "execution_count": 9,
   "metadata": {},
   "outputs": [
    {
     "name": "stdout",
     "output_type": "stream",
     "text": [
      "\n",
      "----------------------------ANSWER----------------------------\n",
      "\n",
      "island\n",
      "Biscoe       [16.559920092667056, 21.19832391416987, 15.695...\n",
      "Dream        [18.52720750061792, 15.923554382720477, 16.583...\n",
      "Torgersen    [21.20440959828345, 14.211573109547974, 21.112...\n",
      "Name: culmen_depth_mm, dtype: object\n",
      "\n",
      "-------------------------END OF ANSWER-------------------------\n",
      "\n"
     ]
    }
   ],
   "source": [
    "#pandas\n",
    "\n",
    "q6_culmen_depth_per_island = pddata.groupby(\"island\")[\"culmen_depth_mm\"].apply(list)\n",
    "pandasAnswer(q6_culmen_depth_per_island)"
   ]
  },
  {
   "cell_type": "markdown",
   "metadata": {},
   "source": [
    "Q.7. جرم بدن هر کدام از جنسیت ها را بیابید (Find the body mass for each sex)\n",
    "\n",
    "We group the dataset by the ```sex``` column using ```.groupby()```. Then, we select the ```body_mass_g column``` for each group. Finally, we use ```.apply(list)``` to convert the values in each group into a list."
   ]
  },
  {
   "cell_type": "code",
   "execution_count": 10,
   "metadata": {},
   "outputs": [
    {
     "name": "stdout",
     "output_type": "stream",
     "text": [
      "\n",
      "----------------------------ANSWER----------------------------\n",
      "\n",
      "sex\n",
      "FEMALE    [5915.50393343563, 3647.364787232397, 5917.708...\n",
      "MALE      [6100.78918485871, 2910.212058883836, 3060.291...\n",
      "Name: body_mass_g, dtype: object\n",
      "\n",
      "-------------------------END OF ANSWER-------------------------\n",
      "\n"
     ]
    }
   ],
   "source": [
    "#pandas\n",
    "\n",
    "q7_body_mass_g_per_sex = pddata.groupby(\"sex\")[\"body_mass_g\"].apply(list)\n",
    "pandasAnswer(q7_body_mass_g_per_sex)"
   ]
  },
  {
   "cell_type": "markdown",
   "metadata": {},
   "source": [
    "Q.8. گونه های موجود در هر جزیره را بیابید (species in each island)\n",
    "\n",
    "We group the dataset by the ```island``` column using ```.groupby()```. Then, we select the ```species``` column for each group. Then, we use ```.value_counts()``` to count the occurrences of each species within each island."
   ]
  },
  {
   "cell_type": "code",
   "execution_count": 22,
   "metadata": {},
   "outputs": [
    {
     "name": "stdout",
     "output_type": "stream",
     "text": [
      "\n",
      "----------------------------ANSWER----------------------------\n",
      "\n",
      "island     species  \n",
      "Biscoe     Chinstrap    37\n",
      "           Gentoo       34\n",
      "           Adelie       31\n",
      "Dream      Gentoo       36\n",
      "           Chinstrap    34\n",
      "           Adelie       33\n",
      "Torgersen  Gentoo       42\n",
      "           Adelie       24\n",
      "           Chinstrap    23\n",
      "Name: count, dtype: int64\n",
      "\n",
      "-------------------------END OF ANSWER-------------------------\n",
      "\n"
     ]
    }
   ],
   "source": [
    "#pandas\n",
    "\n",
    "q8_species_counts_per_island = pddata.groupby(\"island\")[\"species\"].value_counts()\n",
    "pandasAnswer(q8_species_counts_per_island)"
   ]
  },
  {
   "cell_type": "markdown",
   "metadata": {},
   "source": [
    "Q.9. نسبت پنگوئن های ماده در هر گونه را بیابید (Share of female penguins in each species)\n",
    "\n",
    "To calculate the share of female penguins in each species, we first filter the dataset to include only rows where ```sex``` is ```FEMALE```. We then count the number of female penguins in each species using ```.groupby()``` and ```.size()```. Next, we calculate the total number of penguins for each ```species``` by grouping the original dataset by species and using ```.size()```. Finally, we divide the count of females by the total count for each species and multiply by 100 to get the percentage."
   ]
  },
  {
   "cell_type": "code",
   "execution_count": 23,
   "metadata": {},
   "outputs": [
    {
     "name": "stdout",
     "output_type": "stream",
     "text": [
      "\n",
      "----------------------------ANSWER----------------------------\n",
      "\n",
      "species\n",
      "Adelie       40.909091\n",
      "Chinstrap    42.553191\n",
      "Gentoo       43.750000\n",
      "dtype: float64\n",
      "\n",
      "-------------------------END OF ANSWER-------------------------\n",
      "\n"
     ]
    }
   ],
   "source": [
    "q9_countof_female_per_species = pddata[pddata[\"sex\"] == 'FEMALE'].groupby(\"species\").size()\n",
    "\n",
    "q9_countof_each_species = pddata.groupby(\"species\").size()\n",
    "\n",
    "pandasAnswer((q9_countof_female_per_species / q9_countof_each_species) * 100)\n"
   ]
  },
  {
   "cell_type": "markdown",
   "metadata": {},
   "source": [
    "Q.10. طول منقار گونه های موجود در دیتاست را باهم مقایسه کنید مینیمم ماکزیمم میانگین (```flipper_length_mm``` comparisons between species (min, max, mean))\n",
    "\n",
    "This question basically wants us to find each species' ```flipper_length_mm```'s minimum, maximum, and mean values.\n",
    "\n",
    "To do that...\n",
    "\n",
    "1. we're going to grab ```flipper_length_mm``` of each species and turning it into a list.\n",
    "\n",
    "2. we'll put out min, max, and values of each ```flipper_length_mm``` amounts of each species.\n",
    "\n",
    "3. we'll create a new dataset that has each species' min, max, and mean value of ```flipper_length_mm```\n",
    "\n",
    "4. We'll collect all values of the ```Min``` column and will append values to a list.\n",
    "\n",
    "5. to compare values of the ```Min``` list, we'll need to save each values' position in the list because that position relies with the value's raw number in the main data frame. that's why we'll create a dictionary that will record all positions of the list.\n",
    "\n",
    "6. We'll sort the list with \"Bubble sort\" technique.\n",
    "\n",
    "7. You can imagine that the sorted list's values are compared correctly but we need to replace numbers with required index (by index, I mean the species). So, per object of the sorted list, we'll find its raw (with the dictionary we made at 5th step) and we'll grab the rawth index. We can say, this step basically translates numbers into its raw (with step 5's dictionary) and from raw to index (with ```dataframe.index[dict_pos[i]]```)\n",
    "\n",
    "8. by joining ```>``` into the list, we'll have the import we want.\n",
    "\n",
    "9. Repeat steps 4 to 8 for ```Max``` and ```Mean```"
   ]
  },
  {
   "cell_type": "code",
   "execution_count": 26,
   "metadata": {},
   "outputs": [
    {
     "name": "stdout",
     "output_type": "stream",
     "text": [
      "\n",
      "----------------------------ANSWER----------------------------\n",
      "\n",
      "                  Min        Mean         Max\n",
      "species                                      \n",
      "Adelie     230.126074  173.108895  199.714927\n",
      "Chinstrap  230.778038  172.371416  199.413061\n",
      "Gentoo     230.628495  173.401952  201.734706\n",
      "\n",
      "\n",
      "A compare of the each species' minimums:\n",
      "Adelie < Gentoo < Chinstrap\n",
      "\n",
      "A compare of the each species' maximums:\n",
      "Chinstrap < Adelie < Gentoo\n",
      "\n",
      "A compare of the each species' means:\n",
      "Chinstrap < Adelie < Gentoo\n",
      "\n",
      "\n",
      "\n",
      "-------------------------END OF ANSWER-------------------------\n",
      "\n"
     ]
    }
   ],
   "source": [
    "q10_flipper_length_per_species = pddata.groupby(\"species\")[\"flipper_length_mm\"].apply(list)\n",
    "\n",
    "q10_max = q10_flipper_length_per_species.apply(max)\n",
    "q10_min = q10_flipper_length_per_species.apply(min)\n",
    "q10_mean = q10_flipper_length_per_species.apply(lambda x: sum(x) / len(x))  # Calculate mean manually\n",
    "\n",
    "q10_stats = pd.DataFrame({\n",
    "    \"Min\": q10_max,\n",
    "    \"Mean\": q10_min,\n",
    "    \"Max\": q10_mean\n",
    "})\n",
    "\n",
    "def compare(dataframe, entry):\n",
    "    dict_pos = {i: entry.index(i) for i in entry}\n",
    "    n = len(entry)\n",
    "    for i in range(n):\n",
    "        for j in range(0, n-i-1):\n",
    "            if entry[j] > entry[j + 1]:\n",
    "                entry[j], entry[j + 1] = entry[j + 1], entry[j]\n",
    "    \n",
    "    compare_names = []\n",
    "    for i in entry:\n",
    "        compare_names.append(dataframe.index[dict_pos[i]])\n",
    "        \n",
    "    return \" < \".join(compare_names)\n",
    "    \n",
    "def q10_results(dataframe):\n",
    "    answer = \"\"\n",
    "    mins = []\n",
    "    maxs = []\n",
    "    means = []\n",
    "    \n",
    "    answer += q10_stats.to_string()\n",
    "    \n",
    "    answer += \"\\n\\n\\n\"\n",
    "    \n",
    "    \n",
    "    mins.extend(dataframe[\"Min\"])\n",
    "    answer += \"A compare of the each species' minimums:\\n\"\n",
    "    answer += compare(dataframe, mins)\n",
    "    answer += \"\\n\\n\"\n",
    "    \n",
    "    \n",
    "    answer += \"A compare of the each species' maximums:\\n\"\n",
    "    maxs.extend(dataframe[\"Max\"])\n",
    "    answer += compare(dataframe, maxs)\n",
    "    answer += \"\\n\\n\"\n",
    "    \n",
    "    answer += \"A compare of the each species' means:\\n\"\n",
    "    means.extend(dataframe[\"Mean\"])\n",
    "    answer += compare(dataframe, means)\n",
    "    answer += \"\\n\\n\"\n",
    "    \n",
    "    \n",
    "    return answer\n",
    "\n",
    "\n",
    "pandasAnswer(q10_results(q10_stats))"
   ]
  },
  {
   "cell_type": "markdown",
   "metadata": {},
   "source": [
    "Q.11. Show the histogram table of species table.\n",
    "\n",
    "To do that, we'll first, group species out of dataset and then will use matplotlib's ```plot``` method."
   ]
  },
  {
   "cell_type": "code",
   "execution_count": 14,
   "metadata": {},
   "outputs": [
    {
     "name": "stdout",
     "output_type": "stream",
     "text": [
      "species\n",
      "Gentoo       112\n",
      "Chinstrap     94\n",
      "Adelie        88\n",
      "Name: count, dtype: int64\n"
     ]
    },
    {
     "data": {
      "image/png": "[encoded data removed]",
      "text/plain": [
       "<Figure size 800x600 with 1 Axes>"
      ]
     },
     "metadata": {},
     "output_type": "display_data"
    }
   ],
   "source": [
    "q11_species_column = pddata[\"species\"].value_counts()\n",
    "\n",
    "print(q11_species_column)\n",
    "\n",
    "plt.figure(figsize=(8, 6))\n",
    "q11_species_column.plot(kind= \"bar\", color = 'skyblue')\n",
    "plt.title('Frequency of Each Species', fontsize=14)\n",
    "plt.xlabel('Species', fontsize=12)\n",
    "plt.ylabel('Count', fontsize=12)\n",
    "plt.show()\n"
   ]
  },
  {
   "cell_type": "markdown",
   "metadata": {},
   "source": [
    "Q.12. با استفاده از نمودار اسکتر نشان دهید آیا ارتباطی بین طول بانه و جرم بدن در پنگوئن ها وجود دارد؟ (Using a scatter plot, show if there is a correlation between flipper length and body mass in penguins?)\n",
    "\n",
    "(نکات اضافه مربوط به سوال: یک نمودار پراکنش رسم کنید که محور ایکس ها طول باله به میلی متر و محور ایگرگ جرم بدن به گرم را نشان می دهد.)\n",
    "\n",
    "For this questions, we'll grab ```flipper_length_mm``` for x array and ```body_mass_g``` for y array."
   ]
  },
  {
   "cell_type": "code",
   "execution_count": 15,
   "metadata": {},
   "outputs": [
    {
     "data": {
      "image/png": "[encoded data removed]",
      "text/plain": [
       "<Figure size 800x600 with 1 Axes>"
      ]
     },
     "metadata": {},
     "output_type": "display_data"
    }
   ],
   "source": [
    "\n",
    "q12_flipper_x = pddata[\"flipper_length_mm\"]\n",
    "q12_body_mass_g = pddata[\"body_mass_g\"]\n",
    "\n",
    "plt.figure(figsize=(8, 6))\n",
    "plt.scatter(q12_flipper_x, q12_body_mass_g, c='red')\n",
    "\n",
    "plt.title('Scatter Plot of Flipper Length vs Body Mass', fontsize=14)\n",
    "plt.xlabel('Flipper Length (mm)', fontsize=12)\n",
    "plt.ylabel('Body Mass (g)', fontsize=12)\n",
    "\n",
    "plt.show()"
   ]
  },
  {
   "cell_type": "markdown",
   "metadata": {},
   "source": [
    "Here's the calculation of the correlation using spearman formula:"
   ]
  },
  {
   "cell_type": "code",
   "execution_count": 16,
   "metadata": {},
   "outputs": [
    {
     "name": "stdout",
     "output_type": "stream",
     "text": [
      "\n",
      "----------------------------ANSWER----------------------------\n",
      "\n",
      "Correlation of Flipper and body mass is: 0.04162594753873089 that shows a pretty low correlation.\n",
      "\n",
      "-------------------------END OF ANSWER-------------------------\n",
      "\n"
     ]
    }
   ],
   "source": [
    "import scipy.stats as stats\n",
    "\n",
    "def corjudge(number):\n",
    "    if number < -0.7:\n",
    "        return f\"Correlation of Flipper and body mass is: {number} that shows a pretty strong negative correlation.\"\n",
    "    if -0.7 <= number < -0.3:\n",
    "        return f\"Correlation of Flipper and body mass is: {number} that shows a moderate negative correlation.\"\n",
    "    if -0.3 <= number < 0.3:\n",
    "        return f\"Correlation of Flipper and body mass is: {number} that shows a pretty low correlation.\"\n",
    "    if 0.3 <= number <= 0.7:\n",
    "        return f\"Correlation of Flipper and body mass is: {number} that shows a moderate correlation.\"\n",
    "    if number > 0.7:\n",
    "        return f\"Correlation of Flipper and body mass is: {number} that shows a pretty strong correlation.\"\n",
    "\n",
    "q12_res = stats.spearmanr(q12_flipper_x, q12_body_mass_g)\n",
    "pandasAnswer(corjudge(q12_res.statistic))\n"
   ]
  },
  {
   "cell_type": "markdown",
   "metadata": {},
   "source": [
    "Q.13. با استفاده از نمودار باکس اند ویسکرز عمق نوک پنگوئن های نر و ماده را با هم مقایسه کنید.(Compare culmen_depth_mm of two sexes with boxplot)"
   ]
  },
  {
   "cell_type": "code",
   "execution_count": null,
   "metadata": {},
   "outputs": [
    {
     "data": {
      "image/png": "[encoded data removed]",
      "text/plain": [
       "<Figure size 640x480 with 1 Axes>"
      ]
     },
     "metadata": {},
     "output_type": "display_data"
    }
   ],
   "source": [
    "q13_culmen_depth_mm_sex = pddata.groupby(\"sex\")[\"culmen_depth_mm\"].apply(list)\n",
    "\n",
    "\n",
    "data = [q13_culmen_depth_mm_sex.iloc[0], q13_culmen_depth_mm_sex.iloc[1]]\n",
    "\n",
    "\n",
    "plt.boxplot(data, tick_labels=['FEMALE', 'MALE'])\n",
    "\n",
    "\n",
    "plt.title('Box and Whisker Plot of Culmen Depth by Sex')\n",
    "plt.ylabel('Culmen Depth (mm)')\n",
    "\n",
    "\n",
    "plt.show()\n"
   ]
  },
  {
   "cell_type": "markdown",
   "metadata": {},
   "source": [
    "A brief explanation:\n",
    "\n",
    "the top and the bottom of them are both close to each other and we have no putlires so it means that max and min values are the same for both genders.\n",
    "\n",
    "inside bar itself, the bottom of the female rectangle is a little higher than the male one so it means that female's second quantile is bigger than the male ones. the max variety of male and female ones are near each other so it means that the most repeated length between two sexes are the same. the top of the female rectangle is less than the male one so it means that the third quantile of the male one is more than the female one. The length of the male rectangle is more than the female one so it means that the male length has more veriety."
   ]
  },
  {
   "cell_type": "markdown",
   "metadata": {},
   "source": [
    "Q.14. If our data is in the shape of ```(n*m)```, where n is the number of rows, reshape it to ```(n/2 * m2)```.\n",
    "\n",
    "اگر داده ما\n",
    "\n",
    "```(n*m)```\n",
    "\n",
    "باشد و\n",
    "\n",
    "```n```\n",
    "\n",
    "تعداد سطر های ما باشد آن را به حالت\n",
    "\n",
    "```(n/2*m*2)```\n",
    "\n",
    "در بیاورید.\n",
    "\n",
    "This question wants us to halve the count of raws and double the count of columns, so we'll do this with ```reshape``` method.\n",
    "\n",
    "First, we grab numerical columns and we'll create another data frame that's based on numerical columns.\n",
    "Then, we'll define the current (n*m) and then, we'll reshape the new dataframe."
   ]
  },
  {
   "cell_type": "code",
   "execution_count": 29,
   "metadata": {},
   "outputs": [
    {
     "name": "stdout",
     "output_type": "stream",
     "text": [
      "\n",
      "----------------------------ANSWER----------------------------\n",
      "\n",
      "Before reshape:\n",
      "     culmen_length_mm  culmen_depth_mm  flipper_length_mm  body_mass_g\n",
      "0           39.641020        16.559920         224.770654  6100.789185\n",
      "1           52.924312        21.198324         200.424523  2910.212059\n",
      "2           56.974197        21.204410         181.479774  3060.291164\n",
      "3           36.457206        14.211573         198.097524  4582.231660\n",
      "4           53.949836        15.695049         224.175924  5915.503933\n",
      "..                ...              ...                ...          ...\n",
      "344         41.898326        16.659695         203.918004  4421.307861\n",
      "345         46.888493        13.594821         174.195316  2756.567714\n",
      "346         50.876891        20.188351         214.340542  4398.280301\n",
      "347         58.894094        20.051153         183.680292  3378.813599\n",
      "348         35.084555        19.225181         189.667516  3012.745583\n",
      "\n",
      "[294 rows x 4 columns]\n",
      "div: (294X4)\n",
      "After Reshape\n",
      "[[  39.64101959   16.55992009  224.77065389 ...   21.19832391\n",
      "   200.42452278 2910.21205888]\n",
      " [  56.97419667   21.2044096   181.47977437 ...   14.21157311\n",
      "   198.09752399 4582.23166017]\n",
      " [  53.94983621   15.69504948  224.17592402 ...   18.5272075\n",
      "   209.92330683 5924.13420484]\n",
      " ...\n",
      " [  44.48355686   20.39061566  226.26361426 ...   16.65969483\n",
      "   203.91800384 4421.30786059]\n",
      " [  46.88849293   13.59482093  174.19531645 ...   20.1883514\n",
      "   214.34054202 4398.28030084]\n",
      " [  58.89409437   20.05115289  183.68029215 ...   19.22518084\n",
      "   189.66751556 3012.74558343]]\n",
      "new div: (147X8)\n",
      "\n",
      "-------------------------END OF ANSWER-------------------------\n",
      "\n"
     ]
    }
   ],
   "source": [
    "q14_numeric_columns = pddata.select_dtypes(include=['number']).columns.tolist()\n",
    "\n",
    "\n",
    "q14_data = pd.DataFrame({\n",
    "    i: pddata[i] for i in q14_numeric_columns\n",
    "})\n",
    "\n",
    "n, m = q14_data.shape\n",
    "\n",
    "if n % 2 == 0 and m % 2 == 0:\n",
    "    q14_reshaped = q14_data.values.reshape(n // 2, m * 2)\n",
    "\n",
    "    new_n, new_m = q14_reshaped.shape\n",
    "\n",
    "    pandasAnswer(f\"Before reshape:\\n{q14_data}\\ndiv: ({n}X{m})\\nAfter Reshape\\n{q14_reshaped}\\nnew div: ({new_n}X{new_m})\")\n",
    "else:\n",
    "    pandasAnswer(\"Cannot reshape as n and m must be even numbers to split and double properly.\")\n"
   ]
  },
  {
   "cell_type": "markdown",
   "metadata": {},
   "source": [
    "Q.15. مقادیر سلول های نان را با میانگین یا میانه یا مد هر ستون جایگزین کنید. (Replace the NaN values in each column with either the mean, median, or mode of the column. Justify your choice for mean, median, or mode.)\n",
    "\n",
    "در صورت انتخاب هر کدام از حالت های میانگین یا میانه یا مد برای انتخاب خود دلیل آورید.\n",
    "\n",
    "میانگین برای وقتی مناسب است که داده ها به طور تقریبی نرمال توزیع شده باشند و مقادیر پرت تاثیری بر نتایج نگذاند. با این شرایط میانگین جایگزین خوبی است.\n",
    "\n",
    "میانه وثتی مفید است که توضیع نرمال نباشد یا مقادیر افراطی وجود داشته باشد. میانه به علت اینکه تحت تاثیر مقادیر پرت قرار نمیگیرد انتخاب بهتری برای جایگزینی است.\n",
    "\n",
    "مد وقتی مناسب است که داده ها به طور واضح شامل گروه هایی با مقادیر باشند مد انتخاب مناسبی است.\n",
    "\n",
    "توابعی تعریف خواهیم کرد که بتواند این ها را تشخیص دهد.\n",
    "\n",
    "برای تشخیص نرمال بودن از تست شارپیرو ویکی استفاده خواهیم کرد.\n",
    "\n",
    "Mean is suitable when the data is approximately normally distributed, and extreme values (outliers) do not affect the results. Under these conditions, the mean is a good replacement. \n",
    "\n",
    "Median is useful when the distribution is not normal or when there are extreme values. Since the median is not affected by outliers, it is a better choice for replacement.\n",
    "\n",
    "Mode is suitable when the data clearly contains groups with specific values, making the mode a good choice.\n",
    "\n",
    "بنابر توضیحات داده شده کد ابتدا حساب می کند هر کالمن در کدام وضعیت بالا قرار دارد و سپس تغییر خود را اعمال می کند.\n",
    "\n",
    "Based on the provided explanation, the code first determines which category each column falls into, and then applies the appropriate transformation."
   ]
  },
  {
   "cell_type": "code",
   "execution_count": 19,
   "metadata": {},
   "outputs": [
    {
     "name": "stdout",
     "output_type": "stream",
     "text": [
      "------------------------------------------------------------------\n"
     ]
    },
    {
     "data": {
      "image/png": "[encoded data removed]",
      "text/plain": [
       "<Figure size 640x480 with 1 Axes>"
      ]
     },
     "metadata": {},
     "output_type": "display_data"
    },
    {
     "name": "stdout",
     "output_type": "stream",
     "text": [
      "Before: 4 nulls in culmen_length_mm\n",
      "Data is not normally distributed (Reject H0).\n",
      "Using median for filling missing values (continuous data).\n",
      "After: 0 nulls in culmen_length_mm\n",
      "------------------------------------------------------------------\n"
     ]
    },
    {
     "data": {
      "image/png": "[encoded data removed]",
      "text/plain": [
       "<Figure size 640x480 with 1 Axes>"
      ]
     },
     "metadata": {},
     "output_type": "display_data"
    },
    {
     "name": "stdout",
     "output_type": "stream",
     "text": [
      "Before: 10 nulls in culmen_depth_mm\n",
      "Data is not normally distributed (Reject H0).\n",
      "Using median for filling missing values (continuous data).\n",
      "After: 0 nulls in culmen_depth_mm\n",
      "------------------------------------------------------------------\n"
     ]
    },
    {
     "data": {
      "image/png": "[encoded data removed]",
      "text/plain": [
       "<Figure size 640x480 with 1 Axes>"
      ]
     },
     "metadata": {},
     "output_type": "display_data"
    },
    {
     "name": "stdout",
     "output_type": "stream",
     "text": [
      "Before: 5 nulls in flipper_length_mm\n",
      "Data is not normally distributed (Reject H0).\n",
      "Using median for filling missing values (continuous data).\n",
      "After: 0 nulls in flipper_length_mm\n",
      "------------------------------------------------------------------\n"
     ]
    },
    {
     "data": {
      "image/png": "[encoded data removed]",
      "text/plain": [
       "<Figure size 640x480 with 1 Axes>"
      ]
     },
     "metadata": {},
     "output_type": "display_data"
    },
    {
     "name": "stdout",
     "output_type": "stream",
     "text": [
      "Before: 12 nulls in body_mass_g\n",
      "Data is not normally distributed (Reject H0).\n",
      "Using median for filling missing values (continuous data).\n",
      "After: 0 nulls in body_mass_g\n"
     ]
    }
   ],
   "source": [
    "import pandas as pd\n",
    "import matplotlib.pyplot as plt\n",
    "from scipy.stats import shapiro\n",
    "\n",
    "q15_numeric_columns = pddataUNCLEAN.select_dtypes(include=['number']).columns.tolist()\n",
    "\n",
    "for i in q15_numeric_columns:\n",
    "    print(\"------------------------------------------------------------------\")\n",
    "    \n",
    "    non_null_data = pddataUNCLEAN[i].dropna()\n",
    "    non_null_data.hist(bins=30)\n",
    "    plt.title(i)\n",
    "    plt.show()\n",
    "\n",
    "    data_for_test = pddataUNCLEAN[i].dropna()\n",
    "\n",
    "    if len(data_for_test) < 3:\n",
    "        print(f\"Not enough data to perform Shapiro-Wilk test for column {i}. Skipping...\")\n",
    "        continue\n",
    "\n",
    "    stat, p_value = shapiro(data_for_test)\n",
    "    \n",
    "    q15_beforeNun = pddataUNCLEAN[i].isnull().sum()\n",
    "    print(f\"Before: {q15_beforeNun} nulls in {i}\")\n",
    "    \n",
    "    if p_value > 0.05:\n",
    "        print(\"Data is normally distributed (Fail to reject H0).\")\n",
    "        mean_value = pddataUNCLEAN[i].mean()\n",
    "        pddataUNCLEAN[i] = pddataUNCLEAN[i].fillna(mean_value)\n",
    "    else:\n",
    "        print(\"Data is not normally distributed (Reject H0).\")\n",
    "        median_value = pddataUNCLEAN[i].median()\n",
    "        mode_value = pddataUNCLEAN[i].mode()[0]\n",
    "        \n",
    "        if pddataUNCLEAN[i].nunique() < 10:\n",
    "            print(\"Using mode for filling missing values (categorical data).\")\n",
    "            pddataUNCLEAN[i] = pddataUNCLEAN[i].fillna(mode_value)\n",
    "        else:\n",
    "            print(\"Using median for filling missing values (continuous data).\")\n",
    "            pddataUNCLEAN[i] = pddataUNCLEAN[i].fillna(median_value)\n",
    "    \n",
    "    q15_afterNun = pddataUNCLEAN[i].isnull().sum()\n",
    "    print(f\"After: {q15_afterNun} nulls in {i}\")\n"
   ]
  }
 ],
 "metadata": {
  "kernelspec": {
   "display_name": "Python 3",
   "language": "python",
   "name": "python3"
  },
  "language_info": {
   "codemirror_mode": {
    "name": "ipython",
    "version": 3
   },
   "file_extension": ".py",
   "mimetype": "text/x-python",
   "name": "python",
   "nbconvert_exporter": "python",
   "pygments_lexer": "ipython3",
   "version": "3.10.12"
  }
 },
 "nbformat": 4,
 "nbformat_minor": 2
}
