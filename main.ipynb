{
 "cells": [
  {
   "cell_type": "markdown",
   "metadata": {},
   "source": [
    "First step is to import the required libraries. for our usecase, they are numpy, pandas, and matplotlib"
   ]
  },
  {
   "cell_type": "code",
   "execution_count": 94,
   "metadata": {},
   "outputs": [],
   "source": [
    "import numpy\n",
    "import pandas as pd\n",
    "import numpy as np\n",
    "\n",
    "def numpyAnswer(entry):\n",
    "    print(\"\\n-------NUMPY ANSWER--------\\n\")\n",
    "    print(entry)\n",
    "    \n",
    "    \n",
    "def pandasAnswer(entry):\n",
    "    print(\"\\n-------PANDAS ANSWER--------\\n\")\n",
    "    print(entry)"
   ]
  },
  {
   "cell_type": "markdown",
   "metadata": {},
   "source": [
    "Note: This project uses both numpy and pandas. So, each question is going to be answered twice, one with numpy approach and one another with pandas."
   ]
  },
  {
   "cell_type": "markdown",
   "metadata": {},
   "source": [
    "Q.1. Read the dataset.\n",
    "\n",
    "My dataset is the fifth one so we're going to import them.\n",
    "\n",
    "for Numpy, we use genfromtxt (Customized)\n",
    "\n",
    "for Pandas, we use read_csv"
   ]
  },
  {
   "cell_type": "code",
   "execution_count": 95,
   "metadata": {},
   "outputs": [
    {
     "name": "stdout",
     "output_type": "stream",
     "text": [
      "\n",
      "-------NUMPY ANSWER--------\n",
      "\n",
      "[['species' 'island' 'culmen_length_mm' ... 'flipper_length_mm'\n",
      "  'body_mass_g' 'sex']\n",
      " ['Chinstrap' 'Biscoe' '39.6410195855047' ... '224.77065388655927'\n",
      "  '6100.78918485871' 'MALE']\n",
      " ['Adelie' 'Biscoe' '52.92431216271666' ... '200.42452278197'\n",
      "  '2910.212058883836' 'MALE']\n",
      " ...\n",
      " ['Chinstrap' 'Dream' '50.876890709642' ... '214.34054202403698'\n",
      "  '4398.2803008437' 'FEMALE']\n",
      " ['Chinstrap' 'Torgersen' '58.89409436821256' ... '183.6802921476406'\n",
      "  '3378.813598630997' 'MALE']\n",
      " ['Adelie' 'Torgersen' '35.08455477461841' ... '189.66751555744287'\n",
      "  '3012.7455834308316' 'MALE']]\n"
     ]
    }
   ],
   "source": [
    "#numpy\n",
    "\n",
    "\n",
    "npdata = np.loadtxt(\"penguins_size5.csv\",\n",
    "                    delimiter=\",\",  # Specifies the separator between values in the file\n",
    "                    dtype=str)  # Specifies that the data should be loaded as strings\n",
    "\n",
    "numpyAnswer(npdata)"
   ]
  },
  {
   "cell_type": "code",
   "execution_count": 96,
   "metadata": {},
   "outputs": [
    {
     "name": "stdout",
     "output_type": "stream",
     "text": [
      "\n",
      "-------PANDAS ANSWER--------\n",
      "\n",
      "       species     island  culmen_length_mm  culmen_depth_mm  \\\n",
      "0    Chinstrap     Biscoe         39.641020        16.559920   \n",
      "1       Adelie     Biscoe         52.924312        21.198324   \n",
      "2    Chinstrap  Torgersen         56.974197        21.204410   \n",
      "3       Gentoo  Torgersen         36.457206        14.211573   \n",
      "4    Chinstrap     Biscoe         53.949836        15.695049   \n",
      "..         ...        ...               ...              ...   \n",
      "344  Chinstrap      Dream         41.898326        16.659695   \n",
      "345     Gentoo  Torgersen         46.888493        13.594821   \n",
      "346  Chinstrap      Dream         50.876891        20.188351   \n",
      "347  Chinstrap  Torgersen         58.894094        20.051153   \n",
      "348     Adelie  Torgersen         35.084555        19.225181   \n",
      "\n",
      "     flipper_length_mm  body_mass_g     sex  \n",
      "0           224.770654  6100.789185    MALE  \n",
      "1           200.424523  2910.212059    MALE  \n",
      "2           181.479774  3060.291164    MALE  \n",
      "3           198.097524  4582.231660    MALE  \n",
      "4           224.175924  5915.503933  FEMALE  \n",
      "..                 ...          ...     ...  \n",
      "344         203.918004  4421.307861    MALE  \n",
      "345         174.195316  2756.567714  FEMALE  \n",
      "346         214.340542  4398.280301  FEMALE  \n",
      "347         183.680292  3378.813599    MALE  \n",
      "348         189.667516  3012.745583    MALE  \n",
      "\n",
      "[349 rows x 7 columns]\n"
     ]
    }
   ],
   "source": [
    "# Pandas\n",
    "\n",
    "pddata = pd.read_csv('penguins_size5.csv')\n",
    "pandasAnswer(pddata)"
   ]
  },
  {
   "cell_type": "markdown",
   "metadata": {},
   "source": [
    "Q.2. Find out shape of data\n",
    "\n",
    "for Numpy, we use .shape\n",
    "\n",
    "for Pandas, we use .shape too."
   ]
  },
  {
   "cell_type": "code",
   "execution_count": 97,
   "metadata": {},
   "outputs": [
    {
     "name": "stdout",
     "output_type": "stream",
     "text": [
      "\n",
      "-------NUMPY ANSWER--------\n",
      "\n",
      "(350, 7)\n",
      "None\n",
      "\n",
      "-------PANDAS ANSWER--------\n",
      "\n",
      "(349, 7)\n",
      "None\n"
     ]
    }
   ],
   "source": [
    "# Numpy\n",
    "print(numpyAnswer(npdata.shape))\n",
    "print(pandasAnswer(pddata.shape))"
   ]
  },
  {
   "cell_type": "markdown",
   "metadata": {},
   "source": [
    "Q.3. Find dataset info\n",
    "\n",
    "pandas already has its own method \".info\" that shows the first 5 rows of data with the shape of the data. So, we're going to simulate this model for numpy to show infos too..."
   ]
  },
  {
   "cell_type": "code",
   "execution_count": 98,
   "metadata": {},
   "outputs": [
    {
     "name": "stdout",
     "output_type": "stream",
     "text": [
      "\n",
      "-------NUMPY ANSWER--------\n",
      "\n",
      "[['species' 'island' 'culmen_length_mm' 'culmen_depth_mm'\n",
      "  'flipper_length_mm' 'body_mass_g' 'sex']\n",
      " ['Chinstrap' 'Biscoe' '39.6410195855047' '16.559920092667056'\n",
      "  '224.77065388655927' '6100.78918485871' 'MALE']\n",
      " ['Adelie' 'Biscoe' '52.92431216271666' '21.19832391416987'\n",
      "  '200.42452278197' '2910.212058883836' 'MALE']\n",
      " ['Chinstrap' 'Torgersen' '56.974196674120975' '21.204409598283455'\n",
      "  '181.47977437089153' '3060.2911641016844' 'MALE']\n",
      " ['Gentoo' 'Torgersen' '36.45720603642013' '14.211573109547974'\n",
      "  '198.09752399290045' '4582.231660174379' 'MALE']]\n",
      "(350, 7)\n",
      "\n",
      "-------PANDAS ANSWER--------\n",
      "\n",
      "<bound method DataFrame.info of        species     island  culmen_length_mm  culmen_depth_mm  \\\n",
      "0    Chinstrap     Biscoe         39.641020        16.559920   \n",
      "1       Adelie     Biscoe         52.924312        21.198324   \n",
      "2    Chinstrap  Torgersen         56.974197        21.204410   \n",
      "3       Gentoo  Torgersen         36.457206        14.211573   \n",
      "4    Chinstrap     Biscoe         53.949836        15.695049   \n",
      "..         ...        ...               ...              ...   \n",
      "344  Chinstrap      Dream         41.898326        16.659695   \n",
      "345     Gentoo  Torgersen         46.888493        13.594821   \n",
      "346  Chinstrap      Dream         50.876891        20.188351   \n",
      "347  Chinstrap  Torgersen         58.894094        20.051153   \n",
      "348     Adelie  Torgersen         35.084555        19.225181   \n",
      "\n",
      "     flipper_length_mm  body_mass_g     sex  \n",
      "0           224.770654  6100.789185    MALE  \n",
      "1           200.424523  2910.212059    MALE  \n",
      "2           181.479774  3060.291164    MALE  \n",
      "3           198.097524  4582.231660    MALE  \n",
      "4           224.175924  5915.503933  FEMALE  \n",
      "..                 ...          ...     ...  \n",
      "344         203.918004  4421.307861    MALE  \n",
      "345         174.195316  2756.567714  FEMALE  \n",
      "346         214.340542  4398.280301  FEMALE  \n",
      "347         183.680292  3378.813599    MALE  \n",
      "348         189.667516  3012.745583    MALE  \n",
      "\n",
      "[349 rows x 7 columns]>\n"
     ]
    }
   ],
   "source": [
    "#pandas\n",
    "numpyAnswer(npdata[:5, :])  # Extract the first 5 rows for display\n",
    "print(npdata.shape)\n",
    "pandasAnswer(pddata.info)"
   ]
  },
  {
   "cell_type": "code",
   "execution_count": 99,
   "metadata": {},
   "outputs": [
    {
     "name": "stdout",
     "output_type": "stream",
     "text": [
      "\n",
      "-------PANDAS ANSWER--------\n",
      "\n",
      "<bound method NDFrame.describe of        species     island  culmen_length_mm  culmen_depth_mm  \\\n",
      "0    Chinstrap     Biscoe         39.641020        16.559920   \n",
      "1       Adelie     Biscoe         52.924312        21.198324   \n",
      "2    Chinstrap  Torgersen         56.974197        21.204410   \n",
      "3       Gentoo  Torgersen         36.457206        14.211573   \n",
      "4    Chinstrap     Biscoe         53.949836        15.695049   \n",
      "..         ...        ...               ...              ...   \n",
      "344  Chinstrap      Dream         41.898326        16.659695   \n",
      "345     Gentoo  Torgersen         46.888493        13.594821   \n",
      "346  Chinstrap      Dream         50.876891        20.188351   \n",
      "347  Chinstrap  Torgersen         58.894094        20.051153   \n",
      "348     Adelie  Torgersen         35.084555        19.225181   \n",
      "\n",
      "     flipper_length_mm  body_mass_g     sex  \n",
      "0           224.770654  6100.789185    MALE  \n",
      "1           200.424523  2910.212059    MALE  \n",
      "2           181.479774  3060.291164    MALE  \n",
      "3           198.097524  4582.231660    MALE  \n",
      "4           224.175924  5915.503933  FEMALE  \n",
      "..                 ...          ...     ...  \n",
      "344         203.918004  4421.307861    MALE  \n",
      "345         174.195316  2756.567714  FEMALE  \n",
      "346         214.340542  4398.280301  FEMALE  \n",
      "347         183.680292  3378.813599    MALE  \n",
      "348         189.667516  3012.745583    MALE  \n",
      "\n",
      "[349 rows x 7 columns]>\n"
     ]
    }
   ],
   "source": [
    "pandasAnswer(pddata.describe)"
   ]
  },
  {
   "cell_type": "markdown",
   "metadata": {},
   "source": [
    "Q.4. Find unique values in the \"species\" column. (Unique Species)\n",
    "\n",
    "Numpy => we're going to skip the header (row 0) then we're going to call out unique method of numpy to return what we want.\n",
    "\n",
    "Pandas => we're going to grab species column with [\"species\"], then we'll grab unique ones by adding .unique() method."
   ]
  },
  {
   "cell_type": "code",
   "execution_count": 100,
   "metadata": {},
   "outputs": [
    {
     "name": "stdout",
     "output_type": "stream",
     "text": [
      "\n",
      "-------NUMPY ANSWER--------\n",
      "\n",
      "['Adelie' 'Chinstrap' 'Gentoo' 'NA']\n",
      "\n",
      "-------PANDAS ANSWER--------\n",
      "\n",
      "['Chinstrap' 'Adelie' 'Gentoo' nan]\n"
     ]
    }
   ],
   "source": [
    "# Numpy\n",
    "npunique_species = np.unique(npdata[1:, 0])  # Skip the header (row 0)\n",
    "numpyAnswer(npunique_species)\n",
    "\n",
    "# Pandas\n",
    "pdunique_species = pddata[\"species\"].unique()\n",
    "pandasAnswer(pdunique_species)"
   ]
  },
  {
   "cell_type": "markdown",
   "metadata": {},
   "source": [
    "Q.5. Find NaN values per columns.\n",
    "\n",
    "Pandas ==> For pandas, we'll call isna() method to see if a value is equal to Nan or not. then, we'll call sum() method to sum all of them altogether."
   ]
  },
  {
   "cell_type": "code",
   "execution_count": 101,
   "metadata": {},
   "outputs": [
    {
     "name": "stdout",
     "output_type": "stream",
     "text": [
      "\n",
      "-------NUMPY ANSWER--------\n",
      "\n",
      "[0 0 0 0 0 0 0]\n",
      "\n",
      "-------PANDAS ANSWER--------\n",
      "\n",
      "species               3\n",
      "island               13\n",
      "culmen_length_mm      4\n",
      "culmen_depth_mm      10\n",
      "flipper_length_mm     5\n",
      "body_mass_g          12\n",
      "sex                  11\n",
      "dtype: int64\n"
     ]
    }
   ],
   "source": [
    "# Numpy\n",
    "npnan_counts = np.sum(npdata == '', axis=0)\n",
    "numpyAnswer(npnan_counts)\n",
    "\n",
    "# Pandas\n",
    "panan_counts = pddata.isna().sum()\n",
    "pandasAnswer(panan_counts)"
   ]
  },
  {
   "cell_type": "markdown",
   "metadata": {},
   "source": [
    "Q.6. Find coloumn_depth_mm for each island\n",
    "\n",
    "Numpy ==> First, we're going to grab unique island names with the methods explained in previous questions. then we're going to collect each island's coloumn_depth_mm and return them."
   ]
  },
  {
   "cell_type": "code",
   "execution_count": 102,
   "metadata": {},
   "outputs": [
    {
     "ename": "IndexError",
     "evalue": "only integers, slices (`:`), ellipsis (`...`), numpy.newaxis (`None`) and integer or boolean arrays are valid indices",
     "output_type": "error",
     "traceback": [
      "\u001b[0;31m---------------------------------------------------------------------------\u001b[0m",
      "\u001b[0;31mIndexError\u001b[0m                                Traceback (most recent call last)",
      "Cell \u001b[0;32mIn[102], line 2\u001b[0m\n\u001b[1;32m      1\u001b[0m \u001b[38;5;66;03m# Get unique island names\u001b[39;00m\n\u001b[0;32m----> 2\u001b[0m npislands \u001b[38;5;241m=\u001b[39m np\u001b[38;5;241m.\u001b[39munique(\u001b[43mnpdata\u001b[49m\u001b[43m[\u001b[49m\u001b[38;5;124;43m\"\u001b[39;49m\u001b[38;5;124;43misland\u001b[39;49m\u001b[38;5;124;43m\"\u001b[39;49m\u001b[43m]\u001b[49m)  \u001b[38;5;66;03m# Unique island names\u001b[39;00m\n\u001b[1;32m      4\u001b[0m \u001b[38;5;66;03m# Group culmen_depth_mm by island\u001b[39;00m\n\u001b[1;32m      5\u001b[0m npcolumn_depth_per_island \u001b[38;5;241m=\u001b[39m {\n\u001b[1;32m      6\u001b[0m     island: npdata[\u001b[38;5;124m\"\u001b[39m\u001b[38;5;124mculmen_depth_mm\u001b[39m\u001b[38;5;124m\"\u001b[39m][npdata[\u001b[38;5;124m\"\u001b[39m\u001b[38;5;124misland\u001b[39m\u001b[38;5;124m\"\u001b[39m] \u001b[38;5;241m==\u001b[39m island]\n\u001b[1;32m      7\u001b[0m     \u001b[38;5;28;01mfor\u001b[39;00m island \u001b[38;5;129;01min\u001b[39;00m npislands\n\u001b[1;32m      8\u001b[0m }\n",
      "\u001b[0;31mIndexError\u001b[0m: only integers, slices (`:`), ellipsis (`...`), numpy.newaxis (`None`) and integer or boolean arrays are valid indices"
     ]
    }
   ],
   "source": [
    "# Get unique island names\n",
    "npislands = np.unique(npdata[\"island\"])  # Unique island names\n",
    "\n",
    "# Group culmen_depth_mm by island\n",
    "npcolumn_depth_per_island = {\n",
    "    island: npdata[\"culmen_depth_mm\"][npdata[\"island\"] == island]\n",
    "    for island in npislands\n",
    "}\n",
    "\n",
    "# Properly format the output for each island and its corresponding culmen_depth_mm values\n",
    "numpyAnswer('\\n'.join([f\"{island}: {depths}\" for island, depths in npcolumn_depth_per_island.items()]))\n",
    "\n",
    "\n",
    "#pandas\n",
    "\n",
    "pdcolumns_depth_per_island = pddata.groupby(\"island\")[\"culmen_depth_mm\"].apply(list)\n",
    "pandasAnswer(pdcolumns_depth_per_island)"
   ]
  }
 ],
 "metadata": {
  "kernelspec": {
   "display_name": "Python 3",
   "language": "python",
   "name": "python3"
  },
  "language_info": {
   "codemirror_mode": {
    "name": "ipython",
    "version": 3
   },
   "file_extension": ".py",
   "mimetype": "text/x-python",
   "name": "python",
   "nbconvert_exporter": "python",
   "pygments_lexer": "ipython3",
   "version": "3.10.12"
  }
 },
 "nbformat": 4,
 "nbformat_minor": 2
}
